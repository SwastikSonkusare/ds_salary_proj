{
 "cells": [
  {
   "cell_type": "code",
   "execution_count": 1,
   "id": "f3e020cf",
   "metadata": {},
   "outputs": [],
   "source": [
    "import pandas as pd\n",
    "import matplotlib.pyplot as plt\n",
    "import seaborn as sns"
   ]
  },
  {
   "cell_type": "code",
   "execution_count": 2,
   "id": "ab344522",
   "metadata": {},
   "outputs": [],
   "source": [
    "df = pd.read_csv('D:\\\\ds_salary_proj\\\\salary_clean_data.csv')"
   ]
  },
  {
   "cell_type": "code",
   "execution_count": 3,
   "id": "cd6ca3a4",
   "metadata": {},
   "outputs": [
    {
     "data": {
      "text/html": [
       "<div>\n",
       "<style scoped>\n",
       "    .dataframe tbody tr th:only-of-type {\n",
       "        vertical-align: middle;\n",
       "    }\n",
       "\n",
       "    .dataframe tbody tr th {\n",
       "        vertical-align: top;\n",
       "    }\n",
       "\n",
       "    .dataframe thead th {\n",
       "        text-align: right;\n",
       "    }\n",
       "</style>\n",
       "<table border=\"1\" class=\"dataframe\">\n",
       "  <thead>\n",
       "    <tr style=\"text-align: right;\">\n",
       "      <th></th>\n",
       "      <th>Job Title</th>\n",
       "      <th>Salary Estimate</th>\n",
       "      <th>Job Description</th>\n",
       "      <th>Rating</th>\n",
       "      <th>Company Name</th>\n",
       "      <th>Location</th>\n",
       "      <th>Size</th>\n",
       "      <th>Founded</th>\n",
       "      <th>Type of ownership</th>\n",
       "      <th>Industry</th>\n",
       "      <th>...</th>\n",
       "      <th>min_salary</th>\n",
       "      <th>max_salary</th>\n",
       "      <th>avg_salary</th>\n",
       "      <th>company_text</th>\n",
       "      <th>company_age</th>\n",
       "      <th>python_yn</th>\n",
       "      <th>R_yn</th>\n",
       "      <th>sql_yn</th>\n",
       "      <th>excel_yn</th>\n",
       "      <th>spark_yn</th>\n",
       "    </tr>\n",
       "  </thead>\n",
       "  <tbody>\n",
       "    <tr>\n",
       "      <th>0</th>\n",
       "      <td>Manager – Data Analytics &amp; Scientific Computin...</td>\n",
       "      <td>₹2L - ₹3L (Glassdoor Est.)</td>\n",
       "      <td>L'Oréal Research &amp; Innovation might be exactly...</td>\n",
       "      <td>3.9</td>\n",
       "      <td>L'Oreal\\r\\n3.9</td>\n",
       "      <td>Mumbai</td>\n",
       "      <td>10000+ Employees</td>\n",
       "      <td>1909</td>\n",
       "      <td>Company - Private</td>\n",
       "      <td>Consumer Product Manufacturing</td>\n",
       "      <td>...</td>\n",
       "      <td>2</td>\n",
       "      <td>3</td>\n",
       "      <td>2.5</td>\n",
       "      <td>L'Oreal\\r\\n</td>\n",
       "      <td>113</td>\n",
       "      <td>0</td>\n",
       "      <td>1</td>\n",
       "      <td>0</td>\n",
       "      <td>0</td>\n",
       "      <td>0</td>\n",
       "    </tr>\n",
       "    <tr>\n",
       "      <th>1</th>\n",
       "      <td>Data Science</td>\n",
       "      <td>₹5L - ₹8L (Glassdoor Est.)</td>\n",
       "      <td>Responsibilities\\r\\nDesign and develop ML / NL...</td>\n",
       "      <td>3.8</td>\n",
       "      <td>Larsen &amp; Toubro Infotech Limited\\r\\n3.8</td>\n",
       "      <td>Mumbai</td>\n",
       "      <td>10000+ Employees</td>\n",
       "      <td>1997</td>\n",
       "      <td>Company - Public</td>\n",
       "      <td>Information Technology Support Services</td>\n",
       "      <td>...</td>\n",
       "      <td>5</td>\n",
       "      <td>8</td>\n",
       "      <td>6.5</td>\n",
       "      <td>Larsen &amp; Toubro Infotech Limited\\r\\n</td>\n",
       "      <td>25</td>\n",
       "      <td>1</td>\n",
       "      <td>1</td>\n",
       "      <td>0</td>\n",
       "      <td>0</td>\n",
       "      <td>1</td>\n",
       "    </tr>\n",
       "    <tr>\n",
       "      <th>2</th>\n",
       "      <td>Data Scientist</td>\n",
       "      <td>₹9L - ₹10L (Glassdoor Est.)</td>\n",
       "      <td>Responsibilities:\\r\\n Undertaking data collec...</td>\n",
       "      <td>3.9</td>\n",
       "      <td>TheHive</td>\n",
       "      <td>Remote</td>\n",
       "      <td>10000+ Employees</td>\n",
       "      <td>1862</td>\n",
       "      <td>Company - Public</td>\n",
       "      <td>Investment &amp; Asset Management</td>\n",
       "      <td>...</td>\n",
       "      <td>9</td>\n",
       "      <td>10</td>\n",
       "      <td>9.5</td>\n",
       "      <td>TheH</td>\n",
       "      <td>160</td>\n",
       "      <td>0</td>\n",
       "      <td>1</td>\n",
       "      <td>0</td>\n",
       "      <td>0</td>\n",
       "      <td>0</td>\n",
       "    </tr>\n",
       "    <tr>\n",
       "      <th>3</th>\n",
       "      <td>Data Scientists</td>\n",
       "      <td>₹3L - ₹12L (Glassdoor Est.)</td>\n",
       "      <td>Position\\r\\nLocation\\r\\nQualification\\r\\nAge L...</td>\n",
       "      <td>4.3</td>\n",
       "      <td>CDSL\\r\\n4.3</td>\n",
       "      <td>Mumbai</td>\n",
       "      <td>51 to 200 Employees</td>\n",
       "      <td>0</td>\n",
       "      <td>National Services &amp; Agencies</td>\n",
       "      <td>Government &amp; Public Administration</td>\n",
       "      <td>...</td>\n",
       "      <td>3</td>\n",
       "      <td>12</td>\n",
       "      <td>7.5</td>\n",
       "      <td>CDSL\\r\\n</td>\n",
       "      <td>0</td>\n",
       "      <td>0</td>\n",
       "      <td>1</td>\n",
       "      <td>0</td>\n",
       "      <td>0</td>\n",
       "      <td>0</td>\n",
       "    </tr>\n",
       "    <tr>\n",
       "      <th>4</th>\n",
       "      <td>Data Scientist</td>\n",
       "      <td>₹10L - ₹10L (Glassdoor Est.)</td>\n",
       "      <td>Data Scientist\\r\\n\\r\\nThis role has been desig...</td>\n",
       "      <td>4.3</td>\n",
       "      <td>Hewlett Packard Enterprise\\r\\n4.3</td>\n",
       "      <td>Bangalore</td>\n",
       "      <td>10000+ Employees</td>\n",
       "      <td>2015</td>\n",
       "      <td>Company - Public</td>\n",
       "      <td>Information Technology Support Services</td>\n",
       "      <td>...</td>\n",
       "      <td>10</td>\n",
       "      <td>10</td>\n",
       "      <td>10.0</td>\n",
       "      <td>Hewlett Packard Enterprise\\r\\n</td>\n",
       "      <td>7</td>\n",
       "      <td>0</td>\n",
       "      <td>1</td>\n",
       "      <td>0</td>\n",
       "      <td>0</td>\n",
       "      <td>0</td>\n",
       "    </tr>\n",
       "  </tbody>\n",
       "</table>\n",
       "<p>5 rows × 22 columns</p>\n",
       "</div>"
      ],
      "text/plain": [
       "                                           Job Title  \\\n",
       "0  Manager – Data Analytics & Scientific Computin...   \n",
       "1                                       Data Science   \n",
       "2                                     Data Scientist   \n",
       "3                                    Data Scientists   \n",
       "4                                     Data Scientist   \n",
       "\n",
       "                Salary Estimate  \\\n",
       "0    ₹2L - ₹3L (Glassdoor Est.)   \n",
       "1    ₹5L - ₹8L (Glassdoor Est.)   \n",
       "2   ₹9L - ₹10L (Glassdoor Est.)   \n",
       "3   ₹3L - ₹12L (Glassdoor Est.)   \n",
       "4  ₹10L - ₹10L (Glassdoor Est.)   \n",
       "\n",
       "                                     Job Description  Rating  \\\n",
       "0  L'Oréal Research & Innovation might be exactly...     3.9   \n",
       "1  Responsibilities\\r\\nDesign and develop ML / NL...     3.8   \n",
       "2  Responsibilities:\\r\\n Undertaking data collec...     3.9   \n",
       "3  Position\\r\\nLocation\\r\\nQualification\\r\\nAge L...     4.3   \n",
       "4  Data Scientist\\r\\n\\r\\nThis role has been desig...     4.3   \n",
       "\n",
       "                              Company Name   Location                 Size  \\\n",
       "0                           L'Oreal\\r\\n3.9     Mumbai     10000+ Employees   \n",
       "1  Larsen & Toubro Infotech Limited\\r\\n3.8     Mumbai     10000+ Employees   \n",
       "2                                  TheHive     Remote     10000+ Employees   \n",
       "3                              CDSL\\r\\n4.3     Mumbai  51 to 200 Employees   \n",
       "4        Hewlett Packard Enterprise\\r\\n4.3  Bangalore     10000+ Employees   \n",
       "\n",
       "   Founded             Type of ownership  \\\n",
       "0     1909             Company - Private   \n",
       "1     1997              Company - Public   \n",
       "2     1862              Company - Public   \n",
       "3        0  National Services & Agencies   \n",
       "4     2015              Company - Public   \n",
       "\n",
       "                                  Industry  ... min_salary max_salary  \\\n",
       "0           Consumer Product Manufacturing  ...          2          3   \n",
       "1  Information Technology Support Services  ...          5          8   \n",
       "2            Investment & Asset Management  ...          9         10   \n",
       "3       Government & Public Administration  ...          3         12   \n",
       "4  Information Technology Support Services  ...         10         10   \n",
       "\n",
       "   avg_salary                          company_text  company_age python_yn  \\\n",
       "0         2.5                           L'Oreal\\r\\n          113         0   \n",
       "1         6.5  Larsen & Toubro Infotech Limited\\r\\n           25         1   \n",
       "2         9.5                                  TheH          160         0   \n",
       "3         7.5                              CDSL\\r\\n            0         0   \n",
       "4        10.0        Hewlett Packard Enterprise\\r\\n            7         0   \n",
       "\n",
       "   R_yn  sql_yn  excel_yn  spark_yn  \n",
       "0     1       0         0         0  \n",
       "1     1       0         0         1  \n",
       "2     1       0         0         0  \n",
       "3     1       0         0         0  \n",
       "4     1       0         0         0  \n",
       "\n",
       "[5 rows x 22 columns]"
      ]
     },
     "execution_count": 3,
     "metadata": {},
     "output_type": "execute_result"
    }
   ],
   "source": [
    "df.head()"
   ]
  },
  {
   "cell_type": "code",
   "execution_count": 4,
   "id": "8cdb2253",
   "metadata": {},
   "outputs": [],
   "source": [
    "def title_simplified(title):\n",
    "    if 'data scientist' in title.lower() or 'data science' in title.lower():\n",
    "        return 'data scientist'\n",
    "    elif 'data engineer' in title.lower() :\n",
    "        return 'data engineer'\n",
    "    elif 'manager' in title.lower():\n",
    "        return 'manager'\n",
    "    elif 'analyst' in title.lower():\n",
    "        return 'analyst'\n",
    "    elif 'machine learning' in title.lower():\n",
    "        return 'mle'\n",
    "    else:\n",
    "        return 'na'\n",
    "    \n",
    "def seniority(title):\n",
    "    if 'sr' in title.lower() or 'sr.' in title.lower() or 'senior' in title.lower() or 'lead' in title.lower() or 'principal' in title.lower() or 'manager' in title.lower():\n",
    "        return 'senior'\n",
    "    elif 'jr' in title.lower() or 'junior' in title.lower() or 'jr.' in title.lower() or 'associate' in title.lower():\n",
    "        return 'junior'\n",
    "    else:\n",
    "        return 'na'\n",
    "# df['Job Title'].value_counts()\n"
   ]
  },
  {
   "cell_type": "code",
   "execution_count": 5,
   "id": "7fc087ee",
   "metadata": {},
   "outputs": [],
   "source": [
    "df['job_simplified'] = df['Job Title'].apply(title_simplified)"
   ]
  },
  {
   "cell_type": "code",
   "execution_count": 6,
   "id": "365d6cd4",
   "metadata": {},
   "outputs": [
    {
     "data": {
      "text/plain": [
       "data scientist    86\n",
       "na                 7\n",
       "mle                6\n",
       "manager            4\n",
       "analyst            4\n",
       "data engineer      2\n",
       "Name: job_simplified, dtype: int64"
      ]
     },
     "execution_count": 6,
     "metadata": {},
     "output_type": "execute_result"
    }
   ],
   "source": [
    "df['job_simplified'].value_counts()\n"
   ]
  },
  {
   "cell_type": "code",
   "execution_count": 7,
   "id": "55791dac",
   "metadata": {},
   "outputs": [
    {
     "data": {
      "text/plain": [
       "na        82\n",
       "senior    21\n",
       "junior     6\n",
       "Name: seniority, dtype: int64"
      ]
     },
     "execution_count": 7,
     "metadata": {},
     "output_type": "execute_result"
    }
   ],
   "source": [
    "df['seniority'] = df['Job Title'].apply(seniority)\n",
    "df['seniority'].value_counts()"
   ]
  },
  {
   "cell_type": "code",
   "execution_count": 8,
   "id": "de574fbf",
   "metadata": {},
   "outputs": [
    {
     "data": {
      "text/plain": [
       "0       810\n",
       "1      1339\n",
       "2       448\n",
       "3       190\n",
       "4       852\n",
       "       ... \n",
       "104    1320\n",
       "105    2613\n",
       "106    3149\n",
       "107     852\n",
       "108     610\n",
       "Name: desc_length, Length: 109, dtype: int64"
      ]
     },
     "execution_count": 8,
     "metadata": {},
     "output_type": "execute_result"
    }
   ],
   "source": [
    "df['desc_length'] = df['Job Description'].apply(lambda x: len(x))\n",
    "df['desc_length']"
   ]
  },
  {
   "cell_type": "code",
   "execution_count": 9,
   "id": "1172e02d",
   "metadata": {},
   "outputs": [
    {
     "data": {
      "text/html": [
       "<div>\n",
       "<style scoped>\n",
       "    .dataframe tbody tr th:only-of-type {\n",
       "        vertical-align: middle;\n",
       "    }\n",
       "\n",
       "    .dataframe tbody tr th {\n",
       "        vertical-align: top;\n",
       "    }\n",
       "\n",
       "    .dataframe thead th {\n",
       "        text-align: right;\n",
       "    }\n",
       "</style>\n",
       "<table border=\"1\" class=\"dataframe\">\n",
       "  <thead>\n",
       "    <tr style=\"text-align: right;\">\n",
       "      <th></th>\n",
       "      <th>Job Title</th>\n",
       "      <th>Salary Estimate</th>\n",
       "      <th>Job Description</th>\n",
       "      <th>Rating</th>\n",
       "      <th>Company Name</th>\n",
       "      <th>Location</th>\n",
       "      <th>Size</th>\n",
       "      <th>Founded</th>\n",
       "      <th>Type of ownership</th>\n",
       "      <th>Industry</th>\n",
       "      <th>...</th>\n",
       "      <th>company_text</th>\n",
       "      <th>company_age</th>\n",
       "      <th>python_yn</th>\n",
       "      <th>R_yn</th>\n",
       "      <th>sql_yn</th>\n",
       "      <th>excel_yn</th>\n",
       "      <th>spark_yn</th>\n",
       "      <th>job_simplified</th>\n",
       "      <th>seniority</th>\n",
       "      <th>desc_length</th>\n",
       "    </tr>\n",
       "  </thead>\n",
       "  <tbody>\n",
       "    <tr>\n",
       "      <th>0</th>\n",
       "      <td>Manager – Data Analytics &amp; Scientific Computin...</td>\n",
       "      <td>₹2L - ₹3L (Glassdoor Est.)</td>\n",
       "      <td>L'Oréal Research &amp; Innovation might be exactly...</td>\n",
       "      <td>3.9</td>\n",
       "      <td>L'Oreal\\r\\n3.9</td>\n",
       "      <td>Mumbai</td>\n",
       "      <td>10000+ Employees</td>\n",
       "      <td>1909</td>\n",
       "      <td>Company - Private</td>\n",
       "      <td>Consumer Product Manufacturing</td>\n",
       "      <td>...</td>\n",
       "      <td>L'Oreal\\r\\n</td>\n",
       "      <td>113</td>\n",
       "      <td>0</td>\n",
       "      <td>1</td>\n",
       "      <td>0</td>\n",
       "      <td>0</td>\n",
       "      <td>0</td>\n",
       "      <td>manager</td>\n",
       "      <td>senior</td>\n",
       "      <td>810</td>\n",
       "    </tr>\n",
       "    <tr>\n",
       "      <th>1</th>\n",
       "      <td>Data Science</td>\n",
       "      <td>₹5L - ₹8L (Glassdoor Est.)</td>\n",
       "      <td>Responsibilities\\r\\nDesign and develop ML / NL...</td>\n",
       "      <td>3.8</td>\n",
       "      <td>Larsen &amp; Toubro Infotech Limited\\r\\n3.8</td>\n",
       "      <td>Mumbai</td>\n",
       "      <td>10000+ Employees</td>\n",
       "      <td>1997</td>\n",
       "      <td>Company - Public</td>\n",
       "      <td>Information Technology Support Services</td>\n",
       "      <td>...</td>\n",
       "      <td>Larsen &amp; Toubro Infotech Limited\\r\\n</td>\n",
       "      <td>25</td>\n",
       "      <td>1</td>\n",
       "      <td>1</td>\n",
       "      <td>0</td>\n",
       "      <td>0</td>\n",
       "      <td>1</td>\n",
       "      <td>data scientist</td>\n",
       "      <td>na</td>\n",
       "      <td>1339</td>\n",
       "    </tr>\n",
       "    <tr>\n",
       "      <th>2</th>\n",
       "      <td>Data Scientist</td>\n",
       "      <td>₹9L - ₹10L (Glassdoor Est.)</td>\n",
       "      <td>Responsibilities:\\r\\n Undertaking data collec...</td>\n",
       "      <td>3.9</td>\n",
       "      <td>TheHive</td>\n",
       "      <td>Remote</td>\n",
       "      <td>10000+ Employees</td>\n",
       "      <td>1862</td>\n",
       "      <td>Company - Public</td>\n",
       "      <td>Investment &amp; Asset Management</td>\n",
       "      <td>...</td>\n",
       "      <td>TheH</td>\n",
       "      <td>160</td>\n",
       "      <td>0</td>\n",
       "      <td>1</td>\n",
       "      <td>0</td>\n",
       "      <td>0</td>\n",
       "      <td>0</td>\n",
       "      <td>data scientist</td>\n",
       "      <td>na</td>\n",
       "      <td>448</td>\n",
       "    </tr>\n",
       "    <tr>\n",
       "      <th>3</th>\n",
       "      <td>Data Scientists</td>\n",
       "      <td>₹3L - ₹12L (Glassdoor Est.)</td>\n",
       "      <td>Position\\r\\nLocation\\r\\nQualification\\r\\nAge L...</td>\n",
       "      <td>4.3</td>\n",
       "      <td>CDSL\\r\\n4.3</td>\n",
       "      <td>Mumbai</td>\n",
       "      <td>51 to 200 Employees</td>\n",
       "      <td>0</td>\n",
       "      <td>National Services &amp; Agencies</td>\n",
       "      <td>Government &amp; Public Administration</td>\n",
       "      <td>...</td>\n",
       "      <td>CDSL\\r\\n</td>\n",
       "      <td>0</td>\n",
       "      <td>0</td>\n",
       "      <td>1</td>\n",
       "      <td>0</td>\n",
       "      <td>0</td>\n",
       "      <td>0</td>\n",
       "      <td>data scientist</td>\n",
       "      <td>na</td>\n",
       "      <td>190</td>\n",
       "    </tr>\n",
       "    <tr>\n",
       "      <th>4</th>\n",
       "      <td>Data Scientist</td>\n",
       "      <td>₹10L - ₹10L (Glassdoor Est.)</td>\n",
       "      <td>Data Scientist\\r\\n\\r\\nThis role has been desig...</td>\n",
       "      <td>4.3</td>\n",
       "      <td>Hewlett Packard Enterprise\\r\\n4.3</td>\n",
       "      <td>Bangalore</td>\n",
       "      <td>10000+ Employees</td>\n",
       "      <td>2015</td>\n",
       "      <td>Company - Public</td>\n",
       "      <td>Information Technology Support Services</td>\n",
       "      <td>...</td>\n",
       "      <td>Hewlett Packard Enterprise\\r\\n</td>\n",
       "      <td>7</td>\n",
       "      <td>0</td>\n",
       "      <td>1</td>\n",
       "      <td>0</td>\n",
       "      <td>0</td>\n",
       "      <td>0</td>\n",
       "      <td>data scientist</td>\n",
       "      <td>na</td>\n",
       "      <td>852</td>\n",
       "    </tr>\n",
       "    <tr>\n",
       "      <th>...</th>\n",
       "      <td>...</td>\n",
       "      <td>...</td>\n",
       "      <td>...</td>\n",
       "      <td>...</td>\n",
       "      <td>...</td>\n",
       "      <td>...</td>\n",
       "      <td>...</td>\n",
       "      <td>...</td>\n",
       "      <td>...</td>\n",
       "      <td>...</td>\n",
       "      <td>...</td>\n",
       "      <td>...</td>\n",
       "      <td>...</td>\n",
       "      <td>...</td>\n",
       "      <td>...</td>\n",
       "      <td>...</td>\n",
       "      <td>...</td>\n",
       "      <td>...</td>\n",
       "      <td>...</td>\n",
       "      <td>...</td>\n",
       "      <td>...</td>\n",
       "    </tr>\n",
       "    <tr>\n",
       "      <th>104</th>\n",
       "      <td>Associate Data Scientist</td>\n",
       "      <td>₹16L - ₹25L (Glassdoor Est.)</td>\n",
       "      <td>At Boeing, we innovate and collaborate to make...</td>\n",
       "      <td>3.8</td>\n",
       "      <td>BOEING\\r\\n3.8</td>\n",
       "      <td>Bangalore</td>\n",
       "      <td>10000+ Employees</td>\n",
       "      <td>1916</td>\n",
       "      <td>Company - Public</td>\n",
       "      <td>Aerospace &amp; Defence</td>\n",
       "      <td>...</td>\n",
       "      <td>BOEING\\r\\n</td>\n",
       "      <td>106</td>\n",
       "      <td>0</td>\n",
       "      <td>1</td>\n",
       "      <td>0</td>\n",
       "      <td>0</td>\n",
       "      <td>0</td>\n",
       "      <td>data scientist</td>\n",
       "      <td>junior</td>\n",
       "      <td>1320</td>\n",
       "    </tr>\n",
       "    <tr>\n",
       "      <th>105</th>\n",
       "      <td>Software Engineer - Machine Learning</td>\n",
       "      <td>₹14L - ₹22L (Glassdoor Est.)</td>\n",
       "      <td>Our Company\\r\\n\\r\\nChanging the world through ...</td>\n",
       "      <td>4.4</td>\n",
       "      <td>Adobe\\r\\n4.4</td>\n",
       "      <td>Bangalore</td>\n",
       "      <td>10000+ Employees</td>\n",
       "      <td>1982</td>\n",
       "      <td>Company - Public</td>\n",
       "      <td>Computer Hardware Development</td>\n",
       "      <td>...</td>\n",
       "      <td>Adobe\\r\\n</td>\n",
       "      <td>40</td>\n",
       "      <td>1</td>\n",
       "      <td>1</td>\n",
       "      <td>0</td>\n",
       "      <td>1</td>\n",
       "      <td>0</td>\n",
       "      <td>mle</td>\n",
       "      <td>na</td>\n",
       "      <td>2613</td>\n",
       "    </tr>\n",
       "    <tr>\n",
       "      <th>106</th>\n",
       "      <td>Sr Data Scientist</td>\n",
       "      <td>₹3L - ₹7L (Glassdoor Est.)</td>\n",
       "      <td>Company Overview\\r\\n\\r\\nIntuit is a global tec...</td>\n",
       "      <td>4.5</td>\n",
       "      <td>Intuit\\r\\n4.5</td>\n",
       "      <td>Bangalore</td>\n",
       "      <td>10000+ Employees</td>\n",
       "      <td>1983</td>\n",
       "      <td>Company - Public</td>\n",
       "      <td>Software Development</td>\n",
       "      <td>...</td>\n",
       "      <td>Intuit\\r\\n</td>\n",
       "      <td>39</td>\n",
       "      <td>1</td>\n",
       "      <td>1</td>\n",
       "      <td>1</td>\n",
       "      <td>0</td>\n",
       "      <td>1</td>\n",
       "      <td>data scientist</td>\n",
       "      <td>senior</td>\n",
       "      <td>3149</td>\n",
       "    </tr>\n",
       "    <tr>\n",
       "      <th>107</th>\n",
       "      <td>Data Scientist</td>\n",
       "      <td>₹10L - ₹10L (Glassdoor Est.)</td>\n",
       "      <td>Data Scientist\\r\\n\\r\\nThis role has been desig...</td>\n",
       "      <td>4.3</td>\n",
       "      <td>UBS\\r\\n3.9</td>\n",
       "      <td>Pune</td>\n",
       "      <td>10000+ Employees</td>\n",
       "      <td>2015</td>\n",
       "      <td>Company - Public</td>\n",
       "      <td>Information Technology Support Services</td>\n",
       "      <td>...</td>\n",
       "      <td>UBS\\r\\n</td>\n",
       "      <td>7</td>\n",
       "      <td>0</td>\n",
       "      <td>1</td>\n",
       "      <td>0</td>\n",
       "      <td>0</td>\n",
       "      <td>0</td>\n",
       "      <td>data scientist</td>\n",
       "      <td>na</td>\n",
       "      <td>852</td>\n",
       "    </tr>\n",
       "    <tr>\n",
       "      <th>108</th>\n",
       "      <td>Senior Data Scientist</td>\n",
       "      <td>₹7L - ₹9L (Glassdoor Est.)</td>\n",
       "      <td>Job Description\\r\\n\\r\\nOur Data Science teams ...</td>\n",
       "      <td>3.9</td>\n",
       "      <td>NielsenIQ\\r\\n4.0</td>\n",
       "      <td>Bangalore</td>\n",
       "      <td>10000+ Employees</td>\n",
       "      <td>1923</td>\n",
       "      <td>Company - Private</td>\n",
       "      <td>Information Technology Support Services</td>\n",
       "      <td>...</td>\n",
       "      <td>NielsenIQ\\r\\n</td>\n",
       "      <td>99</td>\n",
       "      <td>0</td>\n",
       "      <td>1</td>\n",
       "      <td>0</td>\n",
       "      <td>0</td>\n",
       "      <td>0</td>\n",
       "      <td>data scientist</td>\n",
       "      <td>senior</td>\n",
       "      <td>610</td>\n",
       "    </tr>\n",
       "  </tbody>\n",
       "</table>\n",
       "<p>109 rows × 25 columns</p>\n",
       "</div>"
      ],
      "text/plain": [
       "                                             Job Title  \\\n",
       "0    Manager – Data Analytics & Scientific Computin...   \n",
       "1                                         Data Science   \n",
       "2                                       Data Scientist   \n",
       "3                                      Data Scientists   \n",
       "4                                       Data Scientist   \n",
       "..                                                 ...   \n",
       "104                           Associate Data Scientist   \n",
       "105               Software Engineer - Machine Learning   \n",
       "106                                  Sr Data Scientist   \n",
       "107                                     Data Scientist   \n",
       "108                              Senior Data Scientist   \n",
       "\n",
       "                  Salary Estimate  \\\n",
       "0      ₹2L - ₹3L (Glassdoor Est.)   \n",
       "1      ₹5L - ₹8L (Glassdoor Est.)   \n",
       "2     ₹9L - ₹10L (Glassdoor Est.)   \n",
       "3     ₹3L - ₹12L (Glassdoor Est.)   \n",
       "4    ₹10L - ₹10L (Glassdoor Est.)   \n",
       "..                            ...   \n",
       "104  ₹16L - ₹25L (Glassdoor Est.)   \n",
       "105  ₹14L - ₹22L (Glassdoor Est.)   \n",
       "106    ₹3L - ₹7L (Glassdoor Est.)   \n",
       "107  ₹10L - ₹10L (Glassdoor Est.)   \n",
       "108    ₹7L - ₹9L (Glassdoor Est.)   \n",
       "\n",
       "                                       Job Description  Rating  \\\n",
       "0    L'Oréal Research & Innovation might be exactly...     3.9   \n",
       "1    Responsibilities\\r\\nDesign and develop ML / NL...     3.8   \n",
       "2    Responsibilities:\\r\\n Undertaking data collec...     3.9   \n",
       "3    Position\\r\\nLocation\\r\\nQualification\\r\\nAge L...     4.3   \n",
       "4    Data Scientist\\r\\n\\r\\nThis role has been desig...     4.3   \n",
       "..                                                 ...     ...   \n",
       "104  At Boeing, we innovate and collaborate to make...     3.8   \n",
       "105  Our Company\\r\\n\\r\\nChanging the world through ...     4.4   \n",
       "106  Company Overview\\r\\n\\r\\nIntuit is a global tec...     4.5   \n",
       "107  Data Scientist\\r\\n\\r\\nThis role has been desig...     4.3   \n",
       "108  Job Description\\r\\n\\r\\nOur Data Science teams ...     3.9   \n",
       "\n",
       "                                Company Name   Location                 Size  \\\n",
       "0                             L'Oreal\\r\\n3.9     Mumbai     10000+ Employees   \n",
       "1    Larsen & Toubro Infotech Limited\\r\\n3.8     Mumbai     10000+ Employees   \n",
       "2                                    TheHive     Remote     10000+ Employees   \n",
       "3                                CDSL\\r\\n4.3     Mumbai  51 to 200 Employees   \n",
       "4          Hewlett Packard Enterprise\\r\\n4.3  Bangalore     10000+ Employees   \n",
       "..                                       ...        ...                  ...   \n",
       "104                            BOEING\\r\\n3.8  Bangalore     10000+ Employees   \n",
       "105                             Adobe\\r\\n4.4  Bangalore     10000+ Employees   \n",
       "106                            Intuit\\r\\n4.5  Bangalore     10000+ Employees   \n",
       "107                               UBS\\r\\n3.9       Pune     10000+ Employees   \n",
       "108                         NielsenIQ\\r\\n4.0  Bangalore     10000+ Employees   \n",
       "\n",
       "     Founded             Type of ownership  \\\n",
       "0       1909             Company - Private   \n",
       "1       1997              Company - Public   \n",
       "2       1862              Company - Public   \n",
       "3          0  National Services & Agencies   \n",
       "4       2015              Company - Public   \n",
       "..       ...                           ...   \n",
       "104     1916              Company - Public   \n",
       "105     1982              Company - Public   \n",
       "106     1983              Company - Public   \n",
       "107     2015              Company - Public   \n",
       "108     1923             Company - Private   \n",
       "\n",
       "                                    Industry  ...  \\\n",
       "0             Consumer Product Manufacturing  ...   \n",
       "1    Information Technology Support Services  ...   \n",
       "2              Investment & Asset Management  ...   \n",
       "3         Government & Public Administration  ...   \n",
       "4    Information Technology Support Services  ...   \n",
       "..                                       ...  ...   \n",
       "104                      Aerospace & Defence  ...   \n",
       "105            Computer Hardware Development  ...   \n",
       "106                     Software Development  ...   \n",
       "107  Information Technology Support Services  ...   \n",
       "108  Information Technology Support Services  ...   \n",
       "\n",
       "                             company_text company_age  python_yn  R_yn  \\\n",
       "0                             L'Oreal\\r\\n         113          0     1   \n",
       "1    Larsen & Toubro Infotech Limited\\r\\n          25          1     1   \n",
       "2                                    TheH         160          0     1   \n",
       "3                                CDSL\\r\\n           0          0     1   \n",
       "4          Hewlett Packard Enterprise\\r\\n           7          0     1   \n",
       "..                                    ...         ...        ...   ...   \n",
       "104                            BOEING\\r\\n         106          0     1   \n",
       "105                             Adobe\\r\\n          40          1     1   \n",
       "106                            Intuit\\r\\n          39          1     1   \n",
       "107                               UBS\\r\\n           7          0     1   \n",
       "108                         NielsenIQ\\r\\n          99          0     1   \n",
       "\n",
       "     sql_yn excel_yn  spark_yn  job_simplified  seniority  desc_length  \n",
       "0         0        0         0         manager     senior          810  \n",
       "1         0        0         1  data scientist         na         1339  \n",
       "2         0        0         0  data scientist         na          448  \n",
       "3         0        0         0  data scientist         na          190  \n",
       "4         0        0         0  data scientist         na          852  \n",
       "..      ...      ...       ...             ...        ...          ...  \n",
       "104       0        0         0  data scientist     junior         1320  \n",
       "105       0        1         0             mle         na         2613  \n",
       "106       1        0         1  data scientist     senior         3149  \n",
       "107       0        0         0  data scientist         na          852  \n",
       "108       0        0         0  data scientist     senior          610  \n",
       "\n",
       "[109 rows x 25 columns]"
      ]
     },
     "execution_count": 9,
     "metadata": {},
     "output_type": "execute_result"
    }
   ],
   "source": [
    "df"
   ]
  },
  {
   "cell_type": "code",
   "execution_count": 10,
   "id": "8124f6fc",
   "metadata": {},
   "outputs": [],
   "source": [
    "df.company_text = df.company_text.apply(lambda x: x.replace('\\r\\n', ''))"
   ]
  },
  {
   "cell_type": "code",
   "execution_count": 11,
   "id": "f7f36070",
   "metadata": {},
   "outputs": [
    {
     "data": {
      "text/plain": [
       "0                               L'Oreal\n",
       "1      Larsen & Toubro Infotech Limited\n",
       "2                                  TheH\n",
       "3                                  CDSL\n",
       "4            Hewlett Packard Enterprise\n",
       "                     ...               \n",
       "104                              BOEING\n",
       "105                               Adobe\n",
       "106                              Intuit\n",
       "107                                 UBS\n",
       "108                           NielsenIQ\n",
       "Name: company_text, Length: 109, dtype: object"
      ]
     },
     "execution_count": 11,
     "metadata": {},
     "output_type": "execute_result"
    }
   ],
   "source": [
    "df.company_text"
   ]
  },
  {
   "cell_type": "code",
   "execution_count": 12,
   "id": "d126092b",
   "metadata": {},
   "outputs": [
    {
     "data": {
      "text/html": [
       "<div>\n",
       "<style scoped>\n",
       "    .dataframe tbody tr th:only-of-type {\n",
       "        vertical-align: middle;\n",
       "    }\n",
       "\n",
       "    .dataframe tbody tr th {\n",
       "        vertical-align: top;\n",
       "    }\n",
       "\n",
       "    .dataframe thead th {\n",
       "        text-align: right;\n",
       "    }\n",
       "</style>\n",
       "<table border=\"1\" class=\"dataframe\">\n",
       "  <thead>\n",
       "    <tr style=\"text-align: right;\">\n",
       "      <th></th>\n",
       "      <th>count</th>\n",
       "      <th>mean</th>\n",
       "      <th>std</th>\n",
       "      <th>min</th>\n",
       "      <th>25%</th>\n",
       "      <th>50%</th>\n",
       "      <th>75%</th>\n",
       "      <th>max</th>\n",
       "    </tr>\n",
       "  </thead>\n",
       "  <tbody>\n",
       "    <tr>\n",
       "      <th>Rating</th>\n",
       "      <td>109.0</td>\n",
       "      <td>3.766055</td>\n",
       "      <td>1.130324</td>\n",
       "      <td>-1.0</td>\n",
       "      <td>3.8</td>\n",
       "      <td>4.0</td>\n",
       "      <td>4.2</td>\n",
       "      <td>5.0</td>\n",
       "    </tr>\n",
       "    <tr>\n",
       "      <th>Founded</th>\n",
       "      <td>109.0</td>\n",
       "      <td>1628.486239</td>\n",
       "      <td>707.153195</td>\n",
       "      <td>0.0</td>\n",
       "      <td>1830.0</td>\n",
       "      <td>1909.0</td>\n",
       "      <td>1998.0</td>\n",
       "      <td>2020.0</td>\n",
       "    </tr>\n",
       "    <tr>\n",
       "      <th>min_salary</th>\n",
       "      <td>109.0</td>\n",
       "      <td>6.541284</td>\n",
       "      <td>7.528381</td>\n",
       "      <td>1.0</td>\n",
       "      <td>3.0</td>\n",
       "      <td>5.0</td>\n",
       "      <td>7.0</td>\n",
       "      <td>70.0</td>\n",
       "    </tr>\n",
       "    <tr>\n",
       "      <th>max_salary</th>\n",
       "      <td>109.0</td>\n",
       "      <td>11.541284</td>\n",
       "      <td>10.086232</td>\n",
       "      <td>2.0</td>\n",
       "      <td>7.0</td>\n",
       "      <td>9.0</td>\n",
       "      <td>12.0</td>\n",
       "      <td>85.0</td>\n",
       "    </tr>\n",
       "    <tr>\n",
       "      <th>avg_salary</th>\n",
       "      <td>109.0</td>\n",
       "      <td>9.041284</td>\n",
       "      <td>8.606395</td>\n",
       "      <td>1.5</td>\n",
       "      <td>5.5</td>\n",
       "      <td>6.5</td>\n",
       "      <td>9.5</td>\n",
       "      <td>77.5</td>\n",
       "    </tr>\n",
       "    <tr>\n",
       "      <th>company_age</th>\n",
       "      <td>109.0</td>\n",
       "      <td>78.155963</td>\n",
       "      <td>81.424604</td>\n",
       "      <td>0.0</td>\n",
       "      <td>10.0</td>\n",
       "      <td>40.0</td>\n",
       "      <td>152.0</td>\n",
       "      <td>332.0</td>\n",
       "    </tr>\n",
       "    <tr>\n",
       "      <th>python_yn</th>\n",
       "      <td>109.0</td>\n",
       "      <td>0.174312</td>\n",
       "      <td>0.381130</td>\n",
       "      <td>0.0</td>\n",
       "      <td>0.0</td>\n",
       "      <td>0.0</td>\n",
       "      <td>0.0</td>\n",
       "      <td>1.0</td>\n",
       "    </tr>\n",
       "    <tr>\n",
       "      <th>R_yn</th>\n",
       "      <td>109.0</td>\n",
       "      <td>1.000000</td>\n",
       "      <td>0.000000</td>\n",
       "      <td>1.0</td>\n",
       "      <td>1.0</td>\n",
       "      <td>1.0</td>\n",
       "      <td>1.0</td>\n",
       "      <td>1.0</td>\n",
       "    </tr>\n",
       "    <tr>\n",
       "      <th>sql_yn</th>\n",
       "      <td>109.0</td>\n",
       "      <td>0.110092</td>\n",
       "      <td>0.314450</td>\n",
       "      <td>0.0</td>\n",
       "      <td>0.0</td>\n",
       "      <td>0.0</td>\n",
       "      <td>0.0</td>\n",
       "      <td>1.0</td>\n",
       "    </tr>\n",
       "    <tr>\n",
       "      <th>excel_yn</th>\n",
       "      <td>109.0</td>\n",
       "      <td>0.119266</td>\n",
       "      <td>0.325598</td>\n",
       "      <td>0.0</td>\n",
       "      <td>0.0</td>\n",
       "      <td>0.0</td>\n",
       "      <td>0.0</td>\n",
       "      <td>1.0</td>\n",
       "    </tr>\n",
       "    <tr>\n",
       "      <th>spark_yn</th>\n",
       "      <td>109.0</td>\n",
       "      <td>0.045872</td>\n",
       "      <td>0.210173</td>\n",
       "      <td>0.0</td>\n",
       "      <td>0.0</td>\n",
       "      <td>0.0</td>\n",
       "      <td>0.0</td>\n",
       "      <td>1.0</td>\n",
       "    </tr>\n",
       "    <tr>\n",
       "      <th>desc_length</th>\n",
       "      <td>109.0</td>\n",
       "      <td>999.403670</td>\n",
       "      <td>740.571840</td>\n",
       "      <td>94.0</td>\n",
       "      <td>610.0</td>\n",
       "      <td>802.0</td>\n",
       "      <td>1076.0</td>\n",
       "      <td>3953.0</td>\n",
       "    </tr>\n",
       "  </tbody>\n",
       "</table>\n",
       "</div>"
      ],
      "text/plain": [
       "             count         mean         std   min     25%     50%     75%  \\\n",
       "Rating       109.0     3.766055    1.130324  -1.0     3.8     4.0     4.2   \n",
       "Founded      109.0  1628.486239  707.153195   0.0  1830.0  1909.0  1998.0   \n",
       "min_salary   109.0     6.541284    7.528381   1.0     3.0     5.0     7.0   \n",
       "max_salary   109.0    11.541284   10.086232   2.0     7.0     9.0    12.0   \n",
       "avg_salary   109.0     9.041284    8.606395   1.5     5.5     6.5     9.5   \n",
       "company_age  109.0    78.155963   81.424604   0.0    10.0    40.0   152.0   \n",
       "python_yn    109.0     0.174312    0.381130   0.0     0.0     0.0     0.0   \n",
       "R_yn         109.0     1.000000    0.000000   1.0     1.0     1.0     1.0   \n",
       "sql_yn       109.0     0.110092    0.314450   0.0     0.0     0.0     0.0   \n",
       "excel_yn     109.0     0.119266    0.325598   0.0     0.0     0.0     0.0   \n",
       "spark_yn     109.0     0.045872    0.210173   0.0     0.0     0.0     0.0   \n",
       "desc_length  109.0   999.403670  740.571840  94.0   610.0   802.0  1076.0   \n",
       "\n",
       "                max  \n",
       "Rating          5.0  \n",
       "Founded      2020.0  \n",
       "min_salary     70.0  \n",
       "max_salary     85.0  \n",
       "avg_salary     77.5  \n",
       "company_age   332.0  \n",
       "python_yn       1.0  \n",
       "R_yn            1.0  \n",
       "sql_yn          1.0  \n",
       "excel_yn        1.0  \n",
       "spark_yn        1.0  \n",
       "desc_length  3953.0  "
      ]
     },
     "execution_count": 12,
     "metadata": {},
     "output_type": "execute_result"
    }
   ],
   "source": [
    "df.describe().transpose()"
   ]
  },
  {
   "cell_type": "code",
   "execution_count": 13,
   "id": "c989a86e",
   "metadata": {},
   "outputs": [
    {
     "data": {
      "text/plain": [
       "<AxesSubplot:xlabel='Rating', ylabel='count'>"
      ]
     },
     "execution_count": 13,
     "metadata": {},
     "output_type": "execute_result"
    },
    {
     "data": {
      "image/png": "[encoded data removed]",
      "text/plain": [
       "<Figure size 2400x800 with 1 Axes>"
      ]
     },
     "metadata": {
      "needs_background": "light"
     },
     "output_type": "display_data"
    }
   ],
   "source": [
    "plt.figure(figsize=(12,4), dpi=200)\n",
    "\n",
    "sns.countplot(data=df, x='Rating')"
   ]
  },
  {
   "cell_type": "code",
   "execution_count": 14,
   "id": "6c8edc87",
   "metadata": {},
   "outputs": [
    {
     "data": {
      "text/plain": [
       "Index(['Job Title', 'Salary Estimate', 'Job Description', 'Rating',\n",
       "       'Company Name', 'Location', 'Size', 'Founded', 'Type of ownership',\n",
       "       'Industry', 'Sector', 'Revenue', 'min_salary', 'max_salary',\n",
       "       'avg_salary', 'company_text', 'company_age', 'python_yn', 'R_yn',\n",
       "       'sql_yn', 'excel_yn', 'spark_yn', 'job_simplified', 'seniority',\n",
       "       'desc_length'],\n",
       "      dtype='object')"
      ]
     },
     "execution_count": 14,
     "metadata": {},
     "output_type": "execute_result"
    }
   ],
   "source": [
    "df.columns"
   ]
  },
  {
   "cell_type": "code",
   "execution_count": 15,
   "id": "64f2025b",
   "metadata": {},
   "outputs": [],
   "source": [
    "df = df.rename(columns={\n",
    "    'Job Title': 'job_title',\n",
    "    'Salary Estimate': 'salary_estimate',\n",
    "    'Job Description': 'job_description',\n",
    "    'Company Name': 'company_name',\n",
    "    'Type of ownership': 'type_of_ownership',\n",
    "})"
   ]
  },
  {
   "cell_type": "code",
   "execution_count": 16,
   "id": "d55a27f7",
   "metadata": {},
   "outputs": [
    {
     "data": {
      "text/plain": [
       "Index(['job_title', 'salary_estimate', 'job_description', 'rating',\n",
       "       'company_name', 'location', 'size', 'founded', 'type_of_ownership',\n",
       "       'industry', 'sector', 'revenue', 'min_salary', 'max_salary',\n",
       "       'avg_salary', 'company_text', 'company_age', 'python_yn', 'r_yn',\n",
       "       'sql_yn', 'excel_yn', 'spark_yn', 'job_simplified', 'seniority',\n",
       "       'desc_length'],\n",
       "      dtype='object')"
      ]
     },
     "execution_count": 16,
     "metadata": {},
     "output_type": "execute_result"
    }
   ],
   "source": [
    "df.columns = [x.lower() for x in df.columns]\n",
    "df.columns"
   ]
  },
  {
   "cell_type": "code",
   "execution_count": 17,
   "id": "014704d4",
   "metadata": {},
   "outputs": [
    {
     "data": {
      "text/html": [
       "<div>\n",
       "<style scoped>\n",
       "    .dataframe tbody tr th:only-of-type {\n",
       "        vertical-align: middle;\n",
       "    }\n",
       "\n",
       "    .dataframe tbody tr th {\n",
       "        vertical-align: top;\n",
       "    }\n",
       "\n",
       "    .dataframe thead th {\n",
       "        text-align: right;\n",
       "    }\n",
       "</style>\n",
       "<table border=\"1\" class=\"dataframe\">\n",
       "  <thead>\n",
       "    <tr style=\"text-align: right;\">\n",
       "      <th></th>\n",
       "      <th>rating</th>\n",
       "      <th>founded</th>\n",
       "      <th>min_salary</th>\n",
       "      <th>max_salary</th>\n",
       "      <th>avg_salary</th>\n",
       "      <th>company_age</th>\n",
       "      <th>python_yn</th>\n",
       "      <th>r_yn</th>\n",
       "      <th>sql_yn</th>\n",
       "      <th>excel_yn</th>\n",
       "      <th>spark_yn</th>\n",
       "      <th>desc_length</th>\n",
       "    </tr>\n",
       "  </thead>\n",
       "  <tbody>\n",
       "    <tr>\n",
       "      <th>rating</th>\n",
       "      <td>1.000000</td>\n",
       "      <td>0.596785</td>\n",
       "      <td>0.120239</td>\n",
       "      <td>0.114842</td>\n",
       "      <td>0.119884</td>\n",
       "      <td>0.212424</td>\n",
       "      <td>-0.248354</td>\n",
       "      <td>NaN</td>\n",
       "      <td>-0.200400</td>\n",
       "      <td>-0.009025</td>\n",
       "      <td>0.080669</td>\n",
       "      <td>0.093458</td>\n",
       "    </tr>\n",
       "    <tr>\n",
       "      <th>founded</th>\n",
       "      <td>0.596785</td>\n",
       "      <td>1.000000</td>\n",
       "      <td>0.145367</td>\n",
       "      <td>0.132953</td>\n",
       "      <td>0.141486</td>\n",
       "      <td>0.316871</td>\n",
       "      <td>-0.255472</td>\n",
       "      <td>NaN</td>\n",
       "      <td>-0.094350</td>\n",
       "      <td>0.094812</td>\n",
       "      <td>0.105945</td>\n",
       "      <td>0.225138</td>\n",
       "    </tr>\n",
       "    <tr>\n",
       "      <th>min_salary</th>\n",
       "      <td>0.120239</td>\n",
       "      <td>0.145367</td>\n",
       "      <td>1.000000</td>\n",
       "      <td>0.907850</td>\n",
       "      <td>0.969347</td>\n",
       "      <td>0.026461</td>\n",
       "      <td>-0.129999</td>\n",
       "      <td>NaN</td>\n",
       "      <td>-0.064519</td>\n",
       "      <td>0.052745</td>\n",
       "      <td>-0.074357</td>\n",
       "      <td>-0.050445</td>\n",
       "    </tr>\n",
       "    <tr>\n",
       "      <th>max_salary</th>\n",
       "      <td>0.114842</td>\n",
       "      <td>0.132953</td>\n",
       "      <td>0.907850</td>\n",
       "      <td>1.000000</td>\n",
       "      <td>0.983041</td>\n",
       "      <td>0.035365</td>\n",
       "      <td>-0.125935</td>\n",
       "      <td>NaN</td>\n",
       "      <td>-0.042318</td>\n",
       "      <td>0.036549</td>\n",
       "      <td>-0.051132</td>\n",
       "      <td>-0.017570</td>\n",
       "    </tr>\n",
       "    <tr>\n",
       "      <th>avg_salary</th>\n",
       "      <td>0.119884</td>\n",
       "      <td>0.141486</td>\n",
       "      <td>0.969347</td>\n",
       "      <td>0.983041</td>\n",
       "      <td>1.000000</td>\n",
       "      <td>0.032296</td>\n",
       "      <td>-0.130652</td>\n",
       "      <td>NaN</td>\n",
       "      <td>-0.053016</td>\n",
       "      <td>0.044486</td>\n",
       "      <td>-0.062484</td>\n",
       "      <td>-0.032359</td>\n",
       "    </tr>\n",
       "    <tr>\n",
       "      <th>company_age</th>\n",
       "      <td>0.212424</td>\n",
       "      <td>0.316871</td>\n",
       "      <td>0.026461</td>\n",
       "      <td>0.035365</td>\n",
       "      <td>0.032296</td>\n",
       "      <td>1.000000</td>\n",
       "      <td>-0.216602</td>\n",
       "      <td>NaN</td>\n",
       "      <td>-0.005740</td>\n",
       "      <td>-0.097800</td>\n",
       "      <td>-0.066972</td>\n",
       "      <td>0.180171</td>\n",
       "    </tr>\n",
       "    <tr>\n",
       "      <th>python_yn</th>\n",
       "      <td>-0.248354</td>\n",
       "      <td>-0.255472</td>\n",
       "      <td>-0.129999</td>\n",
       "      <td>-0.125935</td>\n",
       "      <td>-0.130652</td>\n",
       "      <td>-0.216602</td>\n",
       "      <td>1.000000</td>\n",
       "      <td>NaN</td>\n",
       "      <td>0.610988</td>\n",
       "      <td>0.278605</td>\n",
       "      <td>0.477214</td>\n",
       "      <td>0.432738</td>\n",
       "    </tr>\n",
       "    <tr>\n",
       "      <th>r_yn</th>\n",
       "      <td>NaN</td>\n",
       "      <td>NaN</td>\n",
       "      <td>NaN</td>\n",
       "      <td>NaN</td>\n",
       "      <td>NaN</td>\n",
       "      <td>NaN</td>\n",
       "      <td>NaN</td>\n",
       "      <td>NaN</td>\n",
       "      <td>NaN</td>\n",
       "      <td>NaN</td>\n",
       "      <td>NaN</td>\n",
       "      <td>NaN</td>\n",
       "    </tr>\n",
       "    <tr>\n",
       "      <th>sql_yn</th>\n",
       "      <td>-0.200400</td>\n",
       "      <td>-0.094350</td>\n",
       "      <td>-0.064519</td>\n",
       "      <td>-0.042318</td>\n",
       "      <td>-0.053016</td>\n",
       "      <td>-0.005740</td>\n",
       "      <td>0.610988</td>\n",
       "      <td>NaN</td>\n",
       "      <td>1.000000</td>\n",
       "      <td>0.322750</td>\n",
       "      <td>0.343189</td>\n",
       "      <td>0.498132</td>\n",
       "    </tr>\n",
       "    <tr>\n",
       "      <th>excel_yn</th>\n",
       "      <td>-0.009025</td>\n",
       "      <td>0.094812</td>\n",
       "      <td>0.052745</td>\n",
       "      <td>0.036549</td>\n",
       "      <td>0.044486</td>\n",
       "      <td>-0.097800</td>\n",
       "      <td>0.278605</td>\n",
       "      <td>NaN</td>\n",
       "      <td>0.322750</td>\n",
       "      <td>1.000000</td>\n",
       "      <td>0.054619</td>\n",
       "      <td>0.318131</td>\n",
       "    </tr>\n",
       "    <tr>\n",
       "      <th>spark_yn</th>\n",
       "      <td>0.080669</td>\n",
       "      <td>0.105945</td>\n",
       "      <td>-0.074357</td>\n",
       "      <td>-0.051132</td>\n",
       "      <td>-0.062484</td>\n",
       "      <td>-0.066972</td>\n",
       "      <td>0.477214</td>\n",
       "      <td>NaN</td>\n",
       "      <td>0.343189</td>\n",
       "      <td>0.054619</td>\n",
       "      <td>1.000000</td>\n",
       "      <td>0.279773</td>\n",
       "    </tr>\n",
       "    <tr>\n",
       "      <th>desc_length</th>\n",
       "      <td>0.093458</td>\n",
       "      <td>0.225138</td>\n",
       "      <td>-0.050445</td>\n",
       "      <td>-0.017570</td>\n",
       "      <td>-0.032359</td>\n",
       "      <td>0.180171</td>\n",
       "      <td>0.432738</td>\n",
       "      <td>NaN</td>\n",
       "      <td>0.498132</td>\n",
       "      <td>0.318131</td>\n",
       "      <td>0.279773</td>\n",
       "      <td>1.000000</td>\n",
       "    </tr>\n",
       "  </tbody>\n",
       "</table>\n",
       "</div>"
      ],
      "text/plain": [
       "               rating   founded  min_salary  max_salary  avg_salary  \\\n",
       "rating       1.000000  0.596785    0.120239    0.114842    0.119884   \n",
       "founded      0.596785  1.000000    0.145367    0.132953    0.141486   \n",
       "min_salary   0.120239  0.145367    1.000000    0.907850    0.969347   \n",
       "max_salary   0.114842  0.132953    0.907850    1.000000    0.983041   \n",
       "avg_salary   0.119884  0.141486    0.969347    0.983041    1.000000   \n",
       "company_age  0.212424  0.316871    0.026461    0.035365    0.032296   \n",
       "python_yn   -0.248354 -0.255472   -0.129999   -0.125935   -0.130652   \n",
       "r_yn              NaN       NaN         NaN         NaN         NaN   \n",
       "sql_yn      -0.200400 -0.094350   -0.064519   -0.042318   -0.053016   \n",
       "excel_yn    -0.009025  0.094812    0.052745    0.036549    0.044486   \n",
       "spark_yn     0.080669  0.105945   -0.074357   -0.051132   -0.062484   \n",
       "desc_length  0.093458  0.225138   -0.050445   -0.017570   -0.032359   \n",
       "\n",
       "             company_age  python_yn  r_yn    sql_yn  excel_yn  spark_yn  \\\n",
       "rating          0.212424  -0.248354   NaN -0.200400 -0.009025  0.080669   \n",
       "founded         0.316871  -0.255472   NaN -0.094350  0.094812  0.105945   \n",
       "min_salary      0.026461  -0.129999   NaN -0.064519  0.052745 -0.074357   \n",
       "max_salary      0.035365  -0.125935   NaN -0.042318  0.036549 -0.051132   \n",
       "avg_salary      0.032296  -0.130652   NaN -0.053016  0.044486 -0.062484   \n",
       "company_age     1.000000  -0.216602   NaN -0.005740 -0.097800 -0.066972   \n",
       "python_yn      -0.216602   1.000000   NaN  0.610988  0.278605  0.477214   \n",
       "r_yn                 NaN        NaN   NaN       NaN       NaN       NaN   \n",
       "sql_yn         -0.005740   0.610988   NaN  1.000000  0.322750  0.343189   \n",
       "excel_yn       -0.097800   0.278605   NaN  0.322750  1.000000  0.054619   \n",
       "spark_yn       -0.066972   0.477214   NaN  0.343189  0.054619  1.000000   \n",
       "desc_length     0.180171   0.432738   NaN  0.498132  0.318131  0.279773   \n",
       "\n",
       "             desc_length  \n",
       "rating          0.093458  \n",
       "founded         0.225138  \n",
       "min_salary     -0.050445  \n",
       "max_salary     -0.017570  \n",
       "avg_salary     -0.032359  \n",
       "company_age     0.180171  \n",
       "python_yn       0.432738  \n",
       "r_yn                 NaN  \n",
       "sql_yn          0.498132  \n",
       "excel_yn        0.318131  \n",
       "spark_yn        0.279773  \n",
       "desc_length     1.000000  "
      ]
     },
     "execution_count": 17,
     "metadata": {},
     "output_type": "execute_result"
    }
   ],
   "source": [
    "df.corr()"
   ]
  },
  {
   "cell_type": "code",
   "execution_count": 18,
   "id": "a0ce1fd6",
   "metadata": {},
   "outputs": [
    {
     "data": {
      "text/plain": [
       "data scientist    86\n",
       "na                 7\n",
       "mle                6\n",
       "manager            4\n",
       "analyst            4\n",
       "data engineer      2\n",
       "Name: job_simplified, dtype: int64"
      ]
     },
     "execution_count": 18,
     "metadata": {},
     "output_type": "execute_result"
    }
   ],
   "source": [
    "df.job_simplified.value_counts()\n"
   ]
  },
  {
   "cell_type": "code",
   "execution_count": 19,
   "id": "1ecff418",
   "metadata": {},
   "outputs": [
    {
     "data": {
      "text/plain": [
       "<AxesSubplot:xlabel='job_simplified', ylabel='max_salary'>"
      ]
     },
     "execution_count": 19,
     "metadata": {},
     "output_type": "execute_result"
    },
    {
     "data": {
      "image/png": "[encoded data removed]",
      "text/plain": [
       "<Figure size 2400x800 with 1 Axes>"
      ]
     },
     "metadata": {
      "needs_background": "light"
     },
     "output_type": "display_data"
    }
   ],
   "source": [
    "plt.figure(figsize=(12,4), dpi=200)\n",
    "sns.barplot(data=df, x='job_simplified', y='max_salary')"
   ]
  },
  {
   "cell_type": "code",
   "execution_count": 20,
   "id": "684c366b",
   "metadata": {},
   "outputs": [
    {
     "data": {
      "text/plain": [
       "Bangalore     43\n",
       "Mumbai        20\n",
       "Pune          18\n",
       "Hyderābād     10\n",
       "Vadodara       3\n",
       "Chennai        3\n",
       "Gurgaon        3\n",
       "Ahmedabad      2\n",
       "Thāne          2\n",
       "Remote         1\n",
       "Cochin         1\n",
       "New Delhi      1\n",
       "Noida          1\n",
       "Eranakulam     1\n",
       "Name: location, dtype: int64"
      ]
     },
     "execution_count": 20,
     "metadata": {},
     "output_type": "execute_result"
    }
   ],
   "source": [
    "df.location.value_counts()"
   ]
  },
  {
   "cell_type": "code",
   "execution_count": 21,
   "id": "8edb1e99",
   "metadata": {},
   "outputs": [
    {
     "data": {
      "text/plain": [
       "<seaborn.axisgrid.FacetGrid at 0x199b51800d0>"
      ]
     },
     "execution_count": 21,
     "metadata": {},
     "output_type": "execute_result"
    },
    {
     "data": {
      "text/plain": [
       "<Figure size 3000x1200 with 0 Axes>"
      ]
     },
     "metadata": {},
     "output_type": "display_data"
    },
    {
     "data": {
      "image/png": "[encoded data removed]",
      "text/plain": [
       "<Figure size 426.75x360 with 1 Axes>"
      ]
     },
     "metadata": {
      "needs_background": "light"
     },
     "output_type": "display_data"
    }
   ],
   "source": [
    "plt.figure(figsize=(15,6), dpi=200)\n",
    "\n",
    "sns.catplot(data=df, y='location', x='max_salary', hue='seniority', kind='bar')\n",
    "# plt.xticks(rotation=30)\n",
    "# plt.xlabel('X-Axis', labelpad=30)"
   ]
  },
  {
   "cell_type": "code",
   "execution_count": 22,
   "id": "c1de0b00",
   "metadata": {},
   "outputs": [
    {
     "data": {
      "text/plain": [
       "<AxesSubplot:xlabel='seniority', ylabel='avg_salary'>"
      ]
     },
     "execution_count": 22,
     "metadata": {},
     "output_type": "execute_result"
    },
    {
     "data": {
      "image/png": "[encoded data removed]",
      "text/plain": [
       "<Figure size 2400x1200 with 1 Axes>"
      ]
     },
     "metadata": {
      "needs_background": "light"
     },
     "output_type": "display_data"
    }
   ],
   "source": [
    "plt.figure(figsize=(12,6), dpi=200)\n",
    "\n",
    "sns.barplot(data=df, x='seniority', y='avg_salary')"
   ]
  },
  {
   "cell_type": "code",
   "execution_count": 23,
   "id": "db3a1f38",
   "metadata": {},
   "outputs": [
    {
     "data": {
      "text/plain": [
       "<AxesSubplot:>"
      ]
     },
     "execution_count": 23,
     "metadata": {},
     "output_type": "execute_result"
    },
    {
     "data": {
      "image/png": "[encoded data removed]",
      "text/plain": [
       "<Figure size 2400x1200 with 1 Axes>"
      ]
     },
     "metadata": {
      "needs_background": "light"
     },
     "output_type": "display_data"
    }
   ],
   "source": [
    "plt.figure(figsize=(12,6), dpi=200)\n",
    "\n",
    "df.desc_length.hist()"
   ]
  },
  {
   "cell_type": "code",
   "execution_count": 24,
   "id": "1e7cd016",
   "metadata": {},
   "outputs": [
    {
     "data": {
      "text/plain": [
       "<AxesSubplot:>"
      ]
     },
     "execution_count": 24,
     "metadata": {},
     "output_type": "execute_result"
    },
    {
     "data": {
      "image/png": "[encoded data removed]",
      "text/plain": [
       "<Figure size 2400x1200 with 1 Axes>"
      ]
     },
     "metadata": {
      "needs_background": "light"
     },
     "output_type": "display_data"
    }
   ],
   "source": [
    "plt.figure(figsize=(12,6), dpi=200)\n",
    "sns.boxplot(data=df[[\"avg_salary\", \"min_salary\", \"max_salary\"]], orient='h')"
   ]
  },
  {
   "cell_type": "code",
   "execution_count": 25,
   "id": "5d9924e5",
   "metadata": {},
   "outputs": [
    {
     "data": {
      "text/plain": [
       "<AxesSubplot:ylabel='rating'>"
      ]
     },
     "execution_count": 25,
     "metadata": {},
     "output_type": "execute_result"
    },
    {
     "data": {
      "image/png": "[encoded data removed]",
      "text/plain": [
       "<Figure size 2400x1200 with 1 Axes>"
      ]
     },
     "metadata": {
      "needs_background": "light"
     },
     "output_type": "display_data"
    }
   ],
   "source": [
    "plt.figure(figsize=(12,6), dpi=200)\n",
    "\n",
    "sns.boxplot(y=df[\"rating\"])\n"
   ]
  },
  {
   "cell_type": "code",
   "execution_count": 26,
   "id": "f44ca233",
   "metadata": {},
   "outputs": [
    {
     "data": {
      "text/html": [
       "<div>\n",
       "<style scoped>\n",
       "    .dataframe tbody tr th:only-of-type {\n",
       "        vertical-align: middle;\n",
       "    }\n",
       "\n",
       "    .dataframe tbody tr th {\n",
       "        vertical-align: top;\n",
       "    }\n",
       "\n",
       "    .dataframe thead th {\n",
       "        text-align: right;\n",
       "    }\n",
       "</style>\n",
       "<table border=\"1\" class=\"dataframe\">\n",
       "  <thead>\n",
       "    <tr style=\"text-align: right;\">\n",
       "      <th></th>\n",
       "      <th>company_age</th>\n",
       "      <th>avg_salary</th>\n",
       "      <th>rating</th>\n",
       "      <th>desc_length</th>\n",
       "    </tr>\n",
       "  </thead>\n",
       "  <tbody>\n",
       "    <tr>\n",
       "      <th>company_age</th>\n",
       "      <td>1.000000</td>\n",
       "      <td>0.032296</td>\n",
       "      <td>0.212424</td>\n",
       "      <td>0.180171</td>\n",
       "    </tr>\n",
       "    <tr>\n",
       "      <th>avg_salary</th>\n",
       "      <td>0.032296</td>\n",
       "      <td>1.000000</td>\n",
       "      <td>0.119884</td>\n",
       "      <td>-0.032359</td>\n",
       "    </tr>\n",
       "    <tr>\n",
       "      <th>rating</th>\n",
       "      <td>0.212424</td>\n",
       "      <td>0.119884</td>\n",
       "      <td>1.000000</td>\n",
       "      <td>0.093458</td>\n",
       "    </tr>\n",
       "    <tr>\n",
       "      <th>desc_length</th>\n",
       "      <td>0.180171</td>\n",
       "      <td>-0.032359</td>\n",
       "      <td>0.093458</td>\n",
       "      <td>1.000000</td>\n",
       "    </tr>\n",
       "  </tbody>\n",
       "</table>\n",
       "</div>"
      ],
      "text/plain": [
       "             company_age  avg_salary    rating  desc_length\n",
       "company_age     1.000000    0.032296  0.212424     0.180171\n",
       "avg_salary      0.032296    1.000000  0.119884    -0.032359\n",
       "rating          0.212424    0.119884  1.000000     0.093458\n",
       "desc_length     0.180171   -0.032359  0.093458     1.000000"
      ]
     },
     "execution_count": 26,
     "metadata": {},
     "output_type": "execute_result"
    }
   ],
   "source": [
    "df[[\"company_age\", \"avg_salary\", \"rating\", \"desc_length\"]].corr()"
   ]
  },
  {
   "cell_type": "code",
   "execution_count": 27,
   "id": "43d8ce33",
   "metadata": {},
   "outputs": [
    {
     "data": {
      "text/plain": [
       "<AxesSubplot:>"
      ]
     },
     "execution_count": 27,
     "metadata": {},
     "output_type": "execute_result"
    },
    {
     "data": {
      "image/png": "[encoded data removed]",
      "text/plain": [
       "<Figure size 600x400 with 2 Axes>"
      ]
     },
     "metadata": {
      "needs_background": "light"
     },
     "output_type": "display_data"
    }
   ],
   "source": [
    "plt.figure(dpi=100)\n",
    "sns.heatmap(df[[\"company_age\", \"avg_salary\", \"rating\", \"desc_length\"]].corr(), square=True, annot=True, center=0, cmap=\"viridis\" ,linewidths=.5,cbar_kws={\"shrink\":.5})"
   ]
  },
  {
   "cell_type": "code",
   "execution_count": 28,
   "id": "3fbe6a37",
   "metadata": {},
   "outputs": [
    {
     "data": {
      "text/plain": [
       "Index(['job_title', 'salary_estimate', 'job_description', 'rating',\n",
       "       'company_name', 'location', 'size', 'founded', 'type_of_ownership',\n",
       "       'industry', 'sector', 'revenue', 'min_salary', 'max_salary',\n",
       "       'avg_salary', 'company_text', 'company_age', 'python_yn', 'r_yn',\n",
       "       'sql_yn', 'excel_yn', 'spark_yn', 'job_simplified', 'seniority',\n",
       "       'desc_length'],\n",
       "      dtype='object')"
      ]
     },
     "execution_count": 28,
     "metadata": {},
     "output_type": "execute_result"
    }
   ],
   "source": [
    "df.columns"
   ]
  },
  {
   "cell_type": "code",
   "execution_count": 33,
   "id": "57ba664b",
   "metadata": {},
   "outputs": [],
   "source": [
    "df_cat = df[['location', 'size', 'type_of_ownership', 'industry', 'sector', 'revenue', 'company_text', 'python_yn', 'r_yn',\n",
    "       'sql_yn', 'excel_yn', 'spark_yn', 'job_simplified', 'seniority']]"
   ]
  },
  {
   "cell_type": "code",
   "execution_count": 56,
   "id": "b5c8bc31",
   "metadata": {},
   "outputs": [
    {
     "name": "stdout",
     "output_type": "stream",
     "text": [
      "Graph for location: total 14\n"
     ]
    },
    {
     "data": {
      "image/png": "[encoded data removed]",
      "text/plain": [
       "<Figure size 1000x800 with 1 Axes>"
      ]
     },
     "metadata": {
      "needs_background": "light"
     },
     "output_type": "display_data"
    },
    {
     "name": "stdout",
     "output_type": "stream",
     "text": [
      "Graph for size: total 8\n"
     ]
    },
    {
     "data": {
      "image/png": "[encoded data removed]",
      "text/plain": [
       "<Figure size 432x288 with 1 Axes>"
      ]
     },
     "metadata": {
      "needs_background": "light"
     },
     "output_type": "display_data"
    },
    {
     "name": "stdout",
     "output_type": "stream",
     "text": [
      "Graph for type_of_ownership: total 5\n"
     ]
    },
    {
     "data": {
      "image/png": "[encoded data removed]",
      "text/plain": [
       "<Figure size 432x288 with 1 Axes>"
      ]
     },
     "metadata": {
      "needs_background": "light"
     },
     "output_type": "display_data"
    },
    {
     "name": "stdout",
     "output_type": "stream",
     "text": [
      "Graph for industry: total 27\n"
     ]
    },
    {
     "data": {
      "image/png": "[encoded data removed]",
      "text/plain": [
       "<Figure size 432x288 with 1 Axes>"
      ]
     },
     "metadata": {
      "needs_background": "light"
     },
     "output_type": "display_data"
    },
    {
     "name": "stdout",
     "output_type": "stream",
     "text": [
      "Graph for sector: total 14\n"
     ]
    },
    {
     "data": {
      "image/png": "[encoded data removed]",
      "text/plain": [
       "<Figure size 432x288 with 1 Axes>"
      ]
     },
     "metadata": {
      "needs_background": "light"
     },
     "output_type": "display_data"
    },
    {
     "name": "stdout",
     "output_type": "stream",
     "text": [
      "Graph for revenue: total 10\n"
     ]
    },
    {
     "data": {
      "image/png": "[encoded data removed]",
      "text/plain": [
       "<Figure size 432x288 with 1 Axes>"
      ]
     },
     "metadata": {
      "needs_background": "light"
     },
     "output_type": "display_data"
    },
    {
     "name": "stdout",
     "output_type": "stream",
     "text": [
      "Graph for company_text: total 85\n"
     ]
    },
    {
     "data": {
      "image/png": "[encoded data removed]",
      "text/plain": [
       "<Figure size 432x288 with 1 Axes>"
      ]
     },
     "metadata": {
      "needs_background": "light"
     },
     "output_type": "display_data"
    },
    {
     "name": "stdout",
     "output_type": "stream",
     "text": [
      "Graph for python_yn: total 2\n"
     ]
    },
    {
     "data": {
      "image/png": "[encoded data removed]",
      "text/plain": [
       "<Figure size 432x288 with 1 Axes>"
      ]
     },
     "metadata": {
      "needs_background": "light"
     },
     "output_type": "display_data"
    },
    {
     "name": "stdout",
     "output_type": "stream",
     "text": [
      "Graph for r_yn: total 1\n"
     ]
    },
    {
     "data": {
      "image/png": "[encoded data removed]",
      "text/plain": [
       "<Figure size 432x288 with 1 Axes>"
      ]
     },
     "metadata": {
      "needs_background": "light"
     },
     "output_type": "display_data"
    },
    {
     "name": "stdout",
     "output_type": "stream",
     "text": [
      "Graph for sql_yn: total 2\n"
     ]
    },
    {
     "data": {
      "image/png": "[encoded data removed]",
      "text/plain": [
       "<Figure size 432x288 with 1 Axes>"
      ]
     },
     "metadata": {
      "needs_background": "light"
     },
     "output_type": "display_data"
    },
    {
     "name": "stdout",
     "output_type": "stream",
     "text": [
      "Graph for excel_yn: total 2\n"
     ]
    },
    {
     "data": {
      "image/png": "[encoded data removed]",
      "text/plain": [
       "<Figure size 432x288 with 1 Axes>"
      ]
     },
     "metadata": {
      "needs_background": "light"
     },
     "output_type": "display_data"
    },
    {
     "name": "stdout",
     "output_type": "stream",
     "text": [
      "Graph for spark_yn: total 2\n"
     ]
    },
    {
     "data": {
      "image/png": "[encoded data removed]",
      "text/plain": [
       "<Figure size 432x288 with 1 Axes>"
      ]
     },
     "metadata": {
      "needs_background": "light"
     },
     "output_type": "display_data"
    },
    {
     "name": "stdout",
     "output_type": "stream",
     "text": [
      "Graph for job_simplified: total 6\n"
     ]
    },
    {
     "data": {
      "image/png": "[encoded data removed]",
      "text/plain": [
       "<Figure size 432x288 with 1 Axes>"
      ]
     },
     "metadata": {
      "needs_background": "light"
     },
     "output_type": "display_data"
    },
    {
     "name": "stdout",
     "output_type": "stream",
     "text": [
      "Graph for seniority: total 3\n"
     ]
    },
    {
     "data": {
      "image/png": "[encoded data removed]",
      "text/plain": [
       "<Figure size 432x288 with 1 Axes>"
      ]
     },
     "metadata": {
      "needs_background": "light"
     },
     "output_type": "display_data"
    }
   ],
   "source": [
    "plt.figure(figsize=(10,8),dpi=100)\n",
    "\n",
    "for i in df_cat.columns:\n",
    "    cat_num = df_cat[i].value_counts()\n",
    "    print(f'Graph for {i}: total {len(cat_num)}')\n",
    "    sns.barplot(x=cat_num.index, y=cat_num)\n",
    "    plt.xticks(rotation=90)\n",
    "    plt.show()"
   ]
  },
  {
   "cell_type": "code",
   "execution_count": 71,
   "id": "fb98bf03",
   "metadata": {},
   "outputs": [
    {
     "name": "stdout",
     "output_type": "stream",
     "text": [
      "Graph for location: total 10\n"
     ]
    },
    {
     "data": {
      "image/png": "[encoded data removed]",
      "text/plain": [
       "<Figure size 600x400 with 1 Axes>"
      ]
     },
     "metadata": {
      "needs_background": "light"
     },
     "output_type": "display_data"
    },
    {
     "name": "stdout",
     "output_type": "stream",
     "text": [
      "Graph for company_text: total 10\n"
     ]
    },
    {
     "data": {
      "image/png": "[encoded data removed]",
      "text/plain": [
       "<Figure size 432x288 with 1 Axes>"
      ]
     },
     "metadata": {
      "needs_background": "light"
     },
     "output_type": "display_data"
    },
    {
     "name": "stdout",
     "output_type": "stream",
     "text": [
      "Graph for industry: total 10\n"
     ]
    },
    {
     "data": {
      "image/png": "[encoded data removed]",
      "text/plain": [
       "<Figure size 432x288 with 1 Axes>"
      ]
     },
     "metadata": {
      "needs_background": "light"
     },
     "output_type": "display_data"
    }
   ],
   "source": [
    "plt.figure(dpi=100)\n",
    "\n",
    "for i in df_cat[['location','company_text', 'industry']].columns:\n",
    "    cat_num = df_cat[i].value_counts()[:10]\n",
    "    print(f'Graph for {i}: total {len(cat_num)}')\n",
    "    sns.barplot(x=cat_num.index, y=cat_num)\n",
    "    plt.xticks(rotation=90)\n",
    "    plt.show()"
   ]
  },
  {
   "cell_type": "code",
   "execution_count": 74,
   "id": "3bc8a2d8",
   "metadata": {},
   "outputs": [
    {
     "data": {
      "text/plain": [
       "Index(['job_title', 'salary_estimate', 'job_description', 'rating',\n",
       "       'company_name', 'location', 'size', 'founded', 'type_of_ownership',\n",
       "       'industry', 'sector', 'revenue', 'min_salary', 'max_salary',\n",
       "       'avg_salary', 'company_text', 'company_age', 'python_yn', 'r_yn',\n",
       "       'sql_yn', 'excel_yn', 'spark_yn', 'job_simplified', 'seniority',\n",
       "       'desc_length'],\n",
       "      dtype='object')"
      ]
     },
     "execution_count": 74,
     "metadata": {},
     "output_type": "execute_result"
    }
   ],
   "source": [
    "df.columns"
   ]
  },
  {
   "cell_type": "code",
   "execution_count": 80,
   "id": "26ee131d",
   "metadata": {},
   "outputs": [
    {
     "data": {
      "text/html": [
       "<div>\n",
       "<style scoped>\n",
       "    .dataframe tbody tr th:only-of-type {\n",
       "        vertical-align: middle;\n",
       "    }\n",
       "\n",
       "    .dataframe tbody tr th {\n",
       "        vertical-align: top;\n",
       "    }\n",
       "\n",
       "    .dataframe thead th {\n",
       "        text-align: right;\n",
       "    }\n",
       "</style>\n",
       "<table border=\"1\" class=\"dataframe\">\n",
       "  <thead>\n",
       "    <tr style=\"text-align: right;\">\n",
       "      <th></th>\n",
       "      <th>avg_salary</th>\n",
       "    </tr>\n",
       "    <tr>\n",
       "      <th>job_simplified</th>\n",
       "      <th></th>\n",
       "    </tr>\n",
       "  </thead>\n",
       "  <tbody>\n",
       "    <tr>\n",
       "      <th>manager</th>\n",
       "      <td>2.750000</td>\n",
       "    </tr>\n",
       "    <tr>\n",
       "      <th>data scientist</th>\n",
       "      <td>8.598837</td>\n",
       "    </tr>\n",
       "    <tr>\n",
       "      <th>analyst</th>\n",
       "      <td>4.375000</td>\n",
       "    </tr>\n",
       "    <tr>\n",
       "      <th>na</th>\n",
       "      <td>6.928571</td>\n",
       "    </tr>\n",
       "    <tr>\n",
       "      <th>mle</th>\n",
       "      <td>21.083333</td>\n",
       "    </tr>\n",
       "    <tr>\n",
       "      <th>data engineer</th>\n",
       "      <td>21.250000</td>\n",
       "    </tr>\n",
       "  </tbody>\n",
       "</table>\n",
       "</div>"
      ],
      "text/plain": [
       "                avg_salary\n",
       "job_simplified            \n",
       "manager           2.750000\n",
       "data scientist    8.598837\n",
       "analyst           4.375000\n",
       "na                6.928571\n",
       "mle              21.083333\n",
       "data engineer    21.250000"
      ]
     },
     "execution_count": 80,
     "metadata": {},
     "output_type": "execute_result"
    }
   ],
   "source": [
    "pd.pivot_table(df, index='job_simplified', values='avg_salary', sort=False)"
   ]
  },
  {
   "cell_type": "code",
   "execution_count": 81,
   "id": "4aef3f3e",
   "metadata": {},
   "outputs": [
    {
     "data": {
      "text/html": [
       "<div>\n",
       "<style scoped>\n",
       "    .dataframe tbody tr th:only-of-type {\n",
       "        vertical-align: middle;\n",
       "    }\n",
       "\n",
       "    .dataframe tbody tr th {\n",
       "        vertical-align: top;\n",
       "    }\n",
       "\n",
       "    .dataframe thead th {\n",
       "        text-align: right;\n",
       "    }\n",
       "</style>\n",
       "<table border=\"1\" class=\"dataframe\">\n",
       "  <thead>\n",
       "    <tr style=\"text-align: right;\">\n",
       "      <th></th>\n",
       "      <th></th>\n",
       "      <th>avg_salary</th>\n",
       "    </tr>\n",
       "    <tr>\n",
       "      <th>job_simplified</th>\n",
       "      <th>seniority</th>\n",
       "      <th></th>\n",
       "    </tr>\n",
       "  </thead>\n",
       "  <tbody>\n",
       "    <tr>\n",
       "      <th>manager</th>\n",
       "      <th>senior</th>\n",
       "      <td>2.750000</td>\n",
       "    </tr>\n",
       "    <tr>\n",
       "      <th rowspan=\"2\" valign=\"top\">data scientist</th>\n",
       "      <th>na</th>\n",
       "      <td>8.753846</td>\n",
       "    </tr>\n",
       "    <tr>\n",
       "      <th>junior</th>\n",
       "      <td>8.100000</td>\n",
       "    </tr>\n",
       "    <tr>\n",
       "      <th>analyst</th>\n",
       "      <th>na</th>\n",
       "      <td>4.375000</td>\n",
       "    </tr>\n",
       "    <tr>\n",
       "      <th>na</th>\n",
       "      <th>na</th>\n",
       "      <td>6.600000</td>\n",
       "    </tr>\n",
       "    <tr>\n",
       "      <th>data scientist</th>\n",
       "      <th>senior</th>\n",
       "      <td>8.125000</td>\n",
       "    </tr>\n",
       "    <tr>\n",
       "      <th>mle</th>\n",
       "      <th>na</th>\n",
       "      <td>21.083333</td>\n",
       "    </tr>\n",
       "    <tr>\n",
       "      <th>data engineer</th>\n",
       "      <th>na</th>\n",
       "      <td>21.250000</td>\n",
       "    </tr>\n",
       "    <tr>\n",
       "      <th rowspan=\"2\" valign=\"top\">na</th>\n",
       "      <th>senior</th>\n",
       "      <td>6.500000</td>\n",
       "    </tr>\n",
       "    <tr>\n",
       "      <th>junior</th>\n",
       "      <td>9.000000</td>\n",
       "    </tr>\n",
       "  </tbody>\n",
       "</table>\n",
       "</div>"
      ],
      "text/plain": [
       "                          avg_salary\n",
       "job_simplified seniority            \n",
       "manager        senior       2.750000\n",
       "data scientist na           8.753846\n",
       "               junior       8.100000\n",
       "analyst        na           4.375000\n",
       "na             na           6.600000\n",
       "data scientist senior       8.125000\n",
       "mle            na          21.083333\n",
       "data engineer  na          21.250000\n",
       "na             senior       6.500000\n",
       "               junior       9.000000"
      ]
     },
     "execution_count": 81,
     "metadata": {},
     "output_type": "execute_result"
    }
   ],
   "source": [
    "pd.pivot_table(df, index=['job_simplified', 'seniority'], values='avg_salary', sort=False)"
   ]
  },
  {
   "cell_type": "code",
   "execution_count": 84,
   "id": "c188a62d",
   "metadata": {},
   "outputs": [
    {
     "data": {
      "text/html": [
       "<div>\n",
       "<style scoped>\n",
       "    .dataframe tbody tr th:only-of-type {\n",
       "        vertical-align: middle;\n",
       "    }\n",
       "\n",
       "    .dataframe tbody tr th {\n",
       "        vertical-align: top;\n",
       "    }\n",
       "\n",
       "    .dataframe thead th {\n",
       "        text-align: right;\n",
       "    }\n",
       "</style>\n",
       "<table border=\"1\" class=\"dataframe\">\n",
       "  <thead>\n",
       "    <tr style=\"text-align: right;\">\n",
       "      <th></th>\n",
       "      <th>avg_salary</th>\n",
       "    </tr>\n",
       "    <tr>\n",
       "      <th>location</th>\n",
       "      <th></th>\n",
       "    </tr>\n",
       "  </thead>\n",
       "  <tbody>\n",
       "    <tr>\n",
       "      <th>Bangalore</th>\n",
       "      <td>11.337209</td>\n",
       "    </tr>\n",
       "    <tr>\n",
       "      <th>Remote</th>\n",
       "      <td>9.500000</td>\n",
       "    </tr>\n",
       "    <tr>\n",
       "      <th>New Delhi</th>\n",
       "      <td>9.000000</td>\n",
       "    </tr>\n",
       "    <tr>\n",
       "      <th>Pune</th>\n",
       "      <td>8.444444</td>\n",
       "    </tr>\n",
       "    <tr>\n",
       "      <th>Ahmedabad</th>\n",
       "      <td>8.250000</td>\n",
       "    </tr>\n",
       "    <tr>\n",
       "      <th>Chennai</th>\n",
       "      <td>8.166667</td>\n",
       "    </tr>\n",
       "    <tr>\n",
       "      <th>Gurgaon</th>\n",
       "      <td>7.833333</td>\n",
       "    </tr>\n",
       "    <tr>\n",
       "      <th>Hyderābād</th>\n",
       "      <td>7.650000</td>\n",
       "    </tr>\n",
       "    <tr>\n",
       "      <th>Mumbai</th>\n",
       "      <td>7.125000</td>\n",
       "    </tr>\n",
       "    <tr>\n",
       "      <th>Cochin</th>\n",
       "      <td>7.000000</td>\n",
       "    </tr>\n",
       "    <tr>\n",
       "      <th>Vadodara</th>\n",
       "      <td>5.666667</td>\n",
       "    </tr>\n",
       "    <tr>\n",
       "      <th>Eranakulam</th>\n",
       "      <td>5.500000</td>\n",
       "    </tr>\n",
       "    <tr>\n",
       "      <th>Noida</th>\n",
       "      <td>5.500000</td>\n",
       "    </tr>\n",
       "    <tr>\n",
       "      <th>Thāne</th>\n",
       "      <td>4.500000</td>\n",
       "    </tr>\n",
       "  </tbody>\n",
       "</table>\n",
       "</div>"
      ],
      "text/plain": [
       "            avg_salary\n",
       "location              \n",
       "Bangalore    11.337209\n",
       "Remote        9.500000\n",
       "New Delhi     9.000000\n",
       "Pune          8.444444\n",
       "Ahmedabad     8.250000\n",
       "Chennai       8.166667\n",
       "Gurgaon       7.833333\n",
       "Hyderābād     7.650000\n",
       "Mumbai        7.125000\n",
       "Cochin        7.000000\n",
       "Vadodara      5.666667\n",
       "Eranakulam    5.500000\n",
       "Noida         5.500000\n",
       "Thāne         4.500000"
      ]
     },
     "execution_count": 84,
     "metadata": {},
     "output_type": "execute_result"
    }
   ],
   "source": [
    "pd.pivot_table(df, index=['location'], values='avg_salary').sort_values('avg_salary', ascending=False)"
   ]
  },
  {
   "cell_type": "code",
   "execution_count": 91,
   "id": "af37eadc",
   "metadata": {},
   "outputs": [
    {
     "data": {
      "text/html": [
       "<div>\n",
       "<style scoped>\n",
       "    .dataframe tbody tr th:only-of-type {\n",
       "        vertical-align: middle;\n",
       "    }\n",
       "\n",
       "    .dataframe tbody tr th {\n",
       "        vertical-align: top;\n",
       "    }\n",
       "\n",
       "    .dataframe thead th {\n",
       "        text-align: right;\n",
       "    }\n",
       "</style>\n",
       "<table border=\"1\" class=\"dataframe\">\n",
       "  <thead>\n",
       "    <tr style=\"text-align: right;\">\n",
       "      <th></th>\n",
       "      <th></th>\n",
       "      <th>avg_salary</th>\n",
       "    </tr>\n",
       "    <tr>\n",
       "      <th>location</th>\n",
       "      <th>job_simplified</th>\n",
       "      <th></th>\n",
       "    </tr>\n",
       "  </thead>\n",
       "  <tbody>\n",
       "    <tr>\n",
       "      <th rowspan=\"2\" valign=\"top\">Vadodara</th>\n",
       "      <th>na</th>\n",
       "      <td>1</td>\n",
       "    </tr>\n",
       "    <tr>\n",
       "      <th>data scientist</th>\n",
       "      <td>2</td>\n",
       "    </tr>\n",
       "    <tr>\n",
       "      <th>Thāne</th>\n",
       "      <th>data scientist</th>\n",
       "      <td>2</td>\n",
       "    </tr>\n",
       "    <tr>\n",
       "      <th>Remote</th>\n",
       "      <th>data scientist</th>\n",
       "      <td>1</td>\n",
       "    </tr>\n",
       "    <tr>\n",
       "      <th rowspan=\"3\" valign=\"top\">Pune</th>\n",
       "      <th>na</th>\n",
       "      <td>1</td>\n",
       "    </tr>\n",
       "    <tr>\n",
       "      <th>mle</th>\n",
       "      <td>1</td>\n",
       "    </tr>\n",
       "    <tr>\n",
       "      <th>data scientist</th>\n",
       "      <td>16</td>\n",
       "    </tr>\n",
       "    <tr>\n",
       "      <th>Noida</th>\n",
       "      <th>data scientist</th>\n",
       "      <td>1</td>\n",
       "    </tr>\n",
       "    <tr>\n",
       "      <th>New Delhi</th>\n",
       "      <th>data scientist</th>\n",
       "      <td>1</td>\n",
       "    </tr>\n",
       "    <tr>\n",
       "      <th rowspan=\"4\" valign=\"top\">Mumbai</th>\n",
       "      <th>na</th>\n",
       "      <td>1</td>\n",
       "    </tr>\n",
       "    <tr>\n",
       "      <th>mle</th>\n",
       "      <td>1</td>\n",
       "    </tr>\n",
       "    <tr>\n",
       "      <th>manager</th>\n",
       "      <td>3</td>\n",
       "    </tr>\n",
       "    <tr>\n",
       "      <th>data scientist</th>\n",
       "      <td>15</td>\n",
       "    </tr>\n",
       "    <tr>\n",
       "      <th rowspan=\"4\" valign=\"top\">Hyderābād</th>\n",
       "      <th>na</th>\n",
       "      <td>1</td>\n",
       "    </tr>\n",
       "    <tr>\n",
       "      <th>mle</th>\n",
       "      <td>1</td>\n",
       "    </tr>\n",
       "    <tr>\n",
       "      <th>data scientist</th>\n",
       "      <td>6</td>\n",
       "    </tr>\n",
       "    <tr>\n",
       "      <th>analyst</th>\n",
       "      <td>2</td>\n",
       "    </tr>\n",
       "    <tr>\n",
       "      <th rowspan=\"2\" valign=\"top\">Gurgaon</th>\n",
       "      <th>na</th>\n",
       "      <td>1</td>\n",
       "    </tr>\n",
       "    <tr>\n",
       "      <th>data scientist</th>\n",
       "      <td>2</td>\n",
       "    </tr>\n",
       "    <tr>\n",
       "      <th>Eranakulam</th>\n",
       "      <th>data scientist</th>\n",
       "      <td>1</td>\n",
       "    </tr>\n",
       "    <tr>\n",
       "      <th>Cochin</th>\n",
       "      <th>data scientist</th>\n",
       "      <td>1</td>\n",
       "    </tr>\n",
       "    <tr>\n",
       "      <th>Chennai</th>\n",
       "      <th>data scientist</th>\n",
       "      <td>3</td>\n",
       "    </tr>\n",
       "    <tr>\n",
       "      <th rowspan=\"6\" valign=\"top\">Bangalore</th>\n",
       "      <th>analyst</th>\n",
       "      <td>2</td>\n",
       "    </tr>\n",
       "    <tr>\n",
       "      <th>na</th>\n",
       "      <td>2</td>\n",
       "    </tr>\n",
       "    <tr>\n",
       "      <th>mle</th>\n",
       "      <td>3</td>\n",
       "    </tr>\n",
       "    <tr>\n",
       "      <th>manager</th>\n",
       "      <td>1</td>\n",
       "    </tr>\n",
       "    <tr>\n",
       "      <th>data scientist</th>\n",
       "      <td>33</td>\n",
       "    </tr>\n",
       "    <tr>\n",
       "      <th>data engineer</th>\n",
       "      <td>2</td>\n",
       "    </tr>\n",
       "    <tr>\n",
       "      <th>Ahmedabad</th>\n",
       "      <th>data scientist</th>\n",
       "      <td>2</td>\n",
       "    </tr>\n",
       "  </tbody>\n",
       "</table>\n",
       "</div>"
      ],
      "text/plain": [
       "                           avg_salary\n",
       "location   job_simplified            \n",
       "Vadodara   na                       1\n",
       "           data scientist           2\n",
       "Thāne      data scientist           2\n",
       "Remote     data scientist           1\n",
       "Pune       na                       1\n",
       "           mle                      1\n",
       "           data scientist          16\n",
       "Noida      data scientist           1\n",
       "New Delhi  data scientist           1\n",
       "Mumbai     na                       1\n",
       "           mle                      1\n",
       "           manager                  3\n",
       "           data scientist          15\n",
       "Hyderābād  na                       1\n",
       "           mle                      1\n",
       "           data scientist           6\n",
       "           analyst                  2\n",
       "Gurgaon    na                       1\n",
       "           data scientist           2\n",
       "Eranakulam data scientist           1\n",
       "Cochin     data scientist           1\n",
       "Chennai    data scientist           3\n",
       "Bangalore  analyst                  2\n",
       "           na                       2\n",
       "           mle                      3\n",
       "           manager                  1\n",
       "           data scientist          33\n",
       "           data engineer            2\n",
       "Ahmedabad  data scientist           2"
      ]
     },
     "execution_count": 91,
     "metadata": {},
     "output_type": "execute_result"
    }
   ],
   "source": [
    "pd.pivot_table(df, index=['location', 'job_simplified'], values='avg_salary', aggfunc='count').sort_values('location', ascending=False)"
   ]
  },
  {
   "cell_type": "code",
   "execution_count": 102,
   "id": "89bbcec9",
   "metadata": {},
   "outputs": [
    {
     "data": {
      "text/html": [
       "<div>\n",
       "<style scoped>\n",
       "    .dataframe tbody tr th:only-of-type {\n",
       "        vertical-align: middle;\n",
       "    }\n",
       "\n",
       "    .dataframe tbody tr th {\n",
       "        vertical-align: top;\n",
       "    }\n",
       "\n",
       "    .dataframe thead th {\n",
       "        text-align: right;\n",
       "    }\n",
       "</style>\n",
       "<table border=\"1\" class=\"dataframe\">\n",
       "  <thead>\n",
       "    <tr style=\"text-align: right;\">\n",
       "      <th></th>\n",
       "      <th>avg_salary</th>\n",
       "    </tr>\n",
       "    <tr>\n",
       "      <th>location</th>\n",
       "      <th></th>\n",
       "    </tr>\n",
       "  </thead>\n",
       "  <tbody>\n",
       "    <tr>\n",
       "      <th>Bangalore</th>\n",
       "      <td>9.757576</td>\n",
       "    </tr>\n",
       "    <tr>\n",
       "      <th>Remote</th>\n",
       "      <td>9.500000</td>\n",
       "    </tr>\n",
       "    <tr>\n",
       "      <th>New Delhi</th>\n",
       "      <td>9.000000</td>\n",
       "    </tr>\n",
       "    <tr>\n",
       "      <th>Hyderābād</th>\n",
       "      <td>8.833333</td>\n",
       "    </tr>\n",
       "    <tr>\n",
       "      <th>Pune</th>\n",
       "      <td>8.375000</td>\n",
       "    </tr>\n",
       "    <tr>\n",
       "      <th>Ahmedabad</th>\n",
       "      <td>8.250000</td>\n",
       "    </tr>\n",
       "    <tr>\n",
       "      <th>Chennai</th>\n",
       "      <td>8.166667</td>\n",
       "    </tr>\n",
       "    <tr>\n",
       "      <th>Mumbai</th>\n",
       "      <td>8.100000</td>\n",
       "    </tr>\n",
       "    <tr>\n",
       "      <th>Gurgaon</th>\n",
       "      <td>7.250000</td>\n",
       "    </tr>\n",
       "    <tr>\n",
       "      <th>Cochin</th>\n",
       "      <td>7.000000</td>\n",
       "    </tr>\n",
       "    <tr>\n",
       "      <th>Eranakulam</th>\n",
       "      <td>5.500000</td>\n",
       "    </tr>\n",
       "    <tr>\n",
       "      <th>Noida</th>\n",
       "      <td>5.500000</td>\n",
       "    </tr>\n",
       "    <tr>\n",
       "      <th>Thāne</th>\n",
       "      <td>4.500000</td>\n",
       "    </tr>\n",
       "    <tr>\n",
       "      <th>Vadodara</th>\n",
       "      <td>4.000000</td>\n",
       "    </tr>\n",
       "  </tbody>\n",
       "</table>\n",
       "</div>"
      ],
      "text/plain": [
       "            avg_salary\n",
       "location              \n",
       "Bangalore     9.757576\n",
       "Remote        9.500000\n",
       "New Delhi     9.000000\n",
       "Hyderābād     8.833333\n",
       "Pune          8.375000\n",
       "Ahmedabad     8.250000\n",
       "Chennai       8.166667\n",
       "Mumbai        8.100000\n",
       "Gurgaon       7.250000\n",
       "Cochin        7.000000\n",
       "Eranakulam    5.500000\n",
       "Noida         5.500000\n",
       "Thāne         4.500000\n",
       "Vadodara      4.000000"
      ]
     },
     "execution_count": 102,
     "metadata": {},
     "output_type": "execute_result"
    }
   ],
   "source": [
    "pd.pivot_table(df[df.job_simplified == 'data scientist'], index='location', values='avg_salary').sort_values('avg_salary', ascending=False)"
   ]
  },
  {
   "cell_type": "code",
   "execution_count": 103,
   "id": "270497b9",
   "metadata": {},
   "outputs": [
    {
     "data": {
      "text/plain": [
       "Index(['job_title', 'salary_estimate', 'job_description', 'rating',\n",
       "       'company_name', 'location', 'size', 'founded', 'type_of_ownership',\n",
       "       'industry', 'sector', 'revenue', 'min_salary', 'max_salary',\n",
       "       'avg_salary', 'company_text', 'company_age', 'python_yn', 'r_yn',\n",
       "       'sql_yn', 'excel_yn', 'spark_yn', 'job_simplified', 'seniority',\n",
       "       'desc_length'],\n",
       "      dtype='object')"
      ]
     },
     "execution_count": 103,
     "metadata": {},
     "output_type": "execute_result"
    }
   ],
   "source": [
    "df.columns"
   ]
  },
  {
   "cell_type": "code",
   "execution_count": 104,
   "id": "536ec5f9",
   "metadata": {},
   "outputs": [],
   "source": [
    "#salary by rating, industry, sector, revenue, python, sql, r, excel, spark\n"
   ]
  },
  {
   "cell_type": "code",
   "execution_count": 113,
   "id": "6923169e",
   "metadata": {},
   "outputs": [],
   "source": [
    "df_pivots = df[['rating', 'industry', 'sector', 'revenue', 'python_yn', 'sql_yn', 'r_yn', 'excel_yn', 'spark_yn','type_of_ownership', 'avg_salary']]"
   ]
  },
  {
   "cell_type": "code",
   "execution_count": 119,
   "id": "64ce9328",
   "metadata": {},
   "outputs": [
    {
     "name": "stdout",
     "output_type": "stream",
     "text": [
      "rating\n",
      "        avg_salary\n",
      "rating            \n",
      " 4.4     19.928571\n",
      " 4.0     12.000000\n",
      " 4.3      9.833333\n",
      " 4.2      9.062500\n",
      " 3.6      8.750000\n",
      " 3.8      8.250000\n",
      " 3.9      8.147059\n",
      " 4.1      8.000000\n",
      " 3.5      7.400000\n",
      " 4.6      7.000000\n",
      "-1.0      6.000000\n",
      " 5.0      6.000000\n",
      " 1.0      5.500000\n",
      " 3.7      5.125000\n",
      " 3.2      5.000000\n",
      " 4.5      5.000000\n",
      " 3.1      5.000000\n",
      " 4.8      4.750000\n",
      "industry\n",
      "                                         avg_salary\n",
      "industry                                           \n",
      "Computer Hardware Development             34.000000\n",
      "Biotech & Pharmaceuticals                 17.500000\n",
      "Aerospace & Defence                       14.000000\n",
      "Investment & Asset Management             11.583333\n",
      "Energy & Utilities                        10.500000\n",
      "Enterprise Software & Network Solutions    9.900000\n",
      "Transportation Equipment Manufacturing     9.812500\n",
      "Information Technology Support Services    9.807692\n",
      "Food & Beverage Manufacturing              9.500000\n",
      "Financial Transaction Processing           9.000000\n",
      "Accounting & Tax                           8.200000\n",
      "Research & Development                     8.000000\n",
      "Electronics Manufacturing                  8.000000\n",
      "Government & Public Administration         7.500000\n",
      "Business Consulting                        6.937500\n",
      "Internet & Web Services                    6.833333\n",
      "Banking & Lending                          6.812500\n",
      "Telecommunications Services                6.500000\n",
      "-1                                         6.366667\n",
      "Cable, Internet & Telephone Providers      6.000000\n",
      "Advertising & Public Relations             6.000000\n",
      "Department, Clothing & Shoe Stores         5.500000\n",
      "HR Consulting                              5.500000\n",
      "Consumer Product Manufacturing             3.666667\n",
      "Insurance                                  3.500000\n",
      "Broadcast Media                            3.500000\n",
      "Software Development                       3.250000\n",
      "sector\n",
      "                                avg_salary\n",
      "sector                                    \n",
      "Pharmaceutical & Biotechnology   17.500000\n",
      "Aerospace & Defence              14.000000\n",
      "Information Technology           11.058824\n",
      "Energy, Mining, Utilities        10.500000\n",
      "Finance                           8.714286\n",
      "Manufacturing                     8.321429\n",
      "$2 to $5 billion (USD)            7.500000\n",
      "Management & Consulting           7.055556\n",
      "-1                                6.366667\n",
      "Telecommunications                6.250000\n",
      "Human Resources & Staffing        5.500000\n",
      "Retail & Wholesale                5.500000\n",
      "Media & Communication             4.750000\n",
      "$10+ billion (USD)                3.500000\n",
      "revenue\n",
      "                                  avg_salary\n",
      "revenue                                     \n",
      "$2 to $5 billion (USD)             17.928571\n",
      "$10+ billion (USD)                  9.744681\n",
      "$5 to $10 billion (USD)             9.000000\n",
      "Unknown / Non-Applicable            8.978261\n",
      "$25 to $50 million (USD)            7.125000\n",
      "$500 million to $1 billion (USD)    6.500000\n",
      "-1                                  6.264706\n",
      "$1 to $5 million (USD)              5.500000\n",
      "$5 to $25 million (USD)             5.000000\n",
      "$100 to $500 million (USD)          4.666667\n",
      "python_yn\n",
      "           avg_salary\n",
      "python_yn            \n",
      "0            9.555556\n",
      "1            6.605263\n",
      "sql_yn\n",
      "        avg_salary\n",
      "sql_yn            \n",
      "0         9.201031\n",
      "1         7.750000\n",
      "r_yn\n",
      "      avg_salary\n",
      "r_yn            \n",
      "1       9.041284\n",
      "excel_yn\n",
      "          avg_salary\n",
      "excel_yn            \n",
      "1          10.076923\n",
      "0           8.901042\n",
      "spark_yn\n",
      "          avg_salary\n",
      "spark_yn            \n",
      "0           9.158654\n",
      "1           6.600000\n",
      "type_of_ownership\n",
      "                              avg_salary\n",
      "type_of_ownership                       \n",
      "Company - Public               10.817460\n",
      "National Services & Agencies    7.500000\n",
      "Company - Private               6.810345\n",
      "Unknown / Non-Applicable        6.366667\n",
      "Insurance Carriers              3.500000\n",
      "avg_salary\n"
     ]
    },
    {
     "ename": "ValueError",
     "evalue": "Grouper for 'avg_salary' not 1-dimensional",
     "output_type": "error",
     "traceback": [
      "\u001b[1;31m---------------------------------------------------------------------------\u001b[0m",
      "\u001b[1;31mValueError\u001b[0m                                Traceback (most recent call last)",
      "Input \u001b[1;32mIn [119]\u001b[0m, in \u001b[0;36m<cell line: 1>\u001b[1;34m()\u001b[0m\n\u001b[0;32m      1\u001b[0m \u001b[38;5;28;01mfor\u001b[39;00m i \u001b[38;5;129;01min\u001b[39;00m df_pivots\u001b[38;5;241m.\u001b[39mcolumns:\n\u001b[0;32m      2\u001b[0m     \u001b[38;5;28mprint\u001b[39m(i)\n\u001b[1;32m----> 3\u001b[0m     \u001b[38;5;28mprint\u001b[39m(\u001b[43mpd\u001b[49m\u001b[38;5;241;43m.\u001b[39;49m\u001b[43mpivot_table\u001b[49m\u001b[43m(\u001b[49m\u001b[43mdf_pivots\u001b[49m\u001b[43m,\u001b[49m\u001b[43m \u001b[49m\u001b[43mindex\u001b[49m\u001b[38;5;241;43m=\u001b[39;49m\u001b[43mi\u001b[49m\u001b[43m,\u001b[49m\u001b[43m \u001b[49m\u001b[43mvalues\u001b[49m\u001b[38;5;241;43m=\u001b[39;49m\u001b[38;5;124;43m'\u001b[39;49m\u001b[38;5;124;43mavg_salary\u001b[39;49m\u001b[38;5;124;43m'\u001b[39;49m\u001b[43m)\u001b[49m\u001b[38;5;241m.\u001b[39msort_values(\u001b[38;5;124m'\u001b[39m\u001b[38;5;124mavg_salary\u001b[39m\u001b[38;5;124m'\u001b[39m, ascending\u001b[38;5;241m=\u001b[39m\u001b[38;5;28;01mFalse\u001b[39;00m))\n",
      "File \u001b[1;32m~\\anaconda3\\lib\\site-packages\\pandas\\core\\reshape\\pivot.py:95\u001b[0m, in \u001b[0;36mpivot_table\u001b[1;34m(data, values, index, columns, aggfunc, fill_value, margins, dropna, margins_name, observed, sort)\u001b[0m\n\u001b[0;32m     92\u001b[0m     table \u001b[38;5;241m=\u001b[39m concat(pieces, keys\u001b[38;5;241m=\u001b[39mkeys, axis\u001b[38;5;241m=\u001b[39m\u001b[38;5;241m1\u001b[39m)\n\u001b[0;32m     93\u001b[0m     \u001b[38;5;28;01mreturn\u001b[39;00m table\u001b[38;5;241m.\u001b[39m__finalize__(data, method\u001b[38;5;241m=\u001b[39m\u001b[38;5;124m\"\u001b[39m\u001b[38;5;124mpivot_table\u001b[39m\u001b[38;5;124m\"\u001b[39m)\n\u001b[1;32m---> 95\u001b[0m table \u001b[38;5;241m=\u001b[39m \u001b[43m__internal_pivot_table\u001b[49m\u001b[43m(\u001b[49m\n\u001b[0;32m     96\u001b[0m \u001b[43m    \u001b[49m\u001b[43mdata\u001b[49m\u001b[43m,\u001b[49m\n\u001b[0;32m     97\u001b[0m \u001b[43m    \u001b[49m\u001b[43mvalues\u001b[49m\u001b[43m,\u001b[49m\n\u001b[0;32m     98\u001b[0m \u001b[43m    \u001b[49m\u001b[43mindex\u001b[49m\u001b[43m,\u001b[49m\n\u001b[0;32m     99\u001b[0m \u001b[43m    \u001b[49m\u001b[43mcolumns\u001b[49m\u001b[43m,\u001b[49m\n\u001b[0;32m    100\u001b[0m \u001b[43m    \u001b[49m\u001b[43maggfunc\u001b[49m\u001b[43m,\u001b[49m\n\u001b[0;32m    101\u001b[0m \u001b[43m    \u001b[49m\u001b[43mfill_value\u001b[49m\u001b[43m,\u001b[49m\n\u001b[0;32m    102\u001b[0m \u001b[43m    \u001b[49m\u001b[43mmargins\u001b[49m\u001b[43m,\u001b[49m\n\u001b[0;32m    103\u001b[0m \u001b[43m    \u001b[49m\u001b[43mdropna\u001b[49m\u001b[43m,\u001b[49m\n\u001b[0;32m    104\u001b[0m \u001b[43m    \u001b[49m\u001b[43mmargins_name\u001b[49m\u001b[43m,\u001b[49m\n\u001b[0;32m    105\u001b[0m \u001b[43m    \u001b[49m\u001b[43mobserved\u001b[49m\u001b[43m,\u001b[49m\n\u001b[0;32m    106\u001b[0m \u001b[43m    \u001b[49m\u001b[43msort\u001b[49m\u001b[43m,\u001b[49m\n\u001b[0;32m    107\u001b[0m \u001b[43m\u001b[49m\u001b[43m)\u001b[49m\n\u001b[0;32m    108\u001b[0m \u001b[38;5;28;01mreturn\u001b[39;00m table\u001b[38;5;241m.\u001b[39m__finalize__(data, method\u001b[38;5;241m=\u001b[39m\u001b[38;5;124m\"\u001b[39m\u001b[38;5;124mpivot_table\u001b[39m\u001b[38;5;124m\"\u001b[39m)\n",
      "File \u001b[1;32m~\\anaconda3\\lib\\site-packages\\pandas\\core\\reshape\\pivot.py:164\u001b[0m, in \u001b[0;36m__internal_pivot_table\u001b[1;34m(data, values, index, columns, aggfunc, fill_value, margins, dropna, margins_name, observed, sort)\u001b[0m\n\u001b[0;32m    161\u001b[0m             \u001b[38;5;28;01mpass\u001b[39;00m\n\u001b[0;32m    162\u001b[0m     values \u001b[38;5;241m=\u001b[39m \u001b[38;5;28mlist\u001b[39m(values)\n\u001b[1;32m--> 164\u001b[0m grouped \u001b[38;5;241m=\u001b[39m \u001b[43mdata\u001b[49m\u001b[38;5;241;43m.\u001b[39;49m\u001b[43mgroupby\u001b[49m\u001b[43m(\u001b[49m\u001b[43mkeys\u001b[49m\u001b[43m,\u001b[49m\u001b[43m \u001b[49m\u001b[43mobserved\u001b[49m\u001b[38;5;241;43m=\u001b[39;49m\u001b[43mobserved\u001b[49m\u001b[43m,\u001b[49m\u001b[43m \u001b[49m\u001b[43msort\u001b[49m\u001b[38;5;241;43m=\u001b[39;49m\u001b[43msort\u001b[49m\u001b[43m)\u001b[49m\n\u001b[0;32m    165\u001b[0m agged \u001b[38;5;241m=\u001b[39m grouped\u001b[38;5;241m.\u001b[39magg(aggfunc)\n\u001b[0;32m    166\u001b[0m \u001b[38;5;28;01mif\u001b[39;00m dropna \u001b[38;5;129;01mand\u001b[39;00m \u001b[38;5;28misinstance\u001b[39m(agged, ABCDataFrame) \u001b[38;5;129;01mand\u001b[39;00m \u001b[38;5;28mlen\u001b[39m(agged\u001b[38;5;241m.\u001b[39mcolumns):\n",
      "File \u001b[1;32m~\\anaconda3\\lib\\site-packages\\pandas\\core\\frame.py:7712\u001b[0m, in \u001b[0;36mDataFrame.groupby\u001b[1;34m(self, by, axis, level, as_index, sort, group_keys, squeeze, observed, dropna)\u001b[0m\n\u001b[0;32m   7707\u001b[0m axis \u001b[38;5;241m=\u001b[39m \u001b[38;5;28mself\u001b[39m\u001b[38;5;241m.\u001b[39m_get_axis_number(axis)\n\u001b[0;32m   7709\u001b[0m \u001b[38;5;66;03m# https://github.com/python/mypy/issues/7642\u001b[39;00m\n\u001b[0;32m   7710\u001b[0m \u001b[38;5;66;03m# error: Argument \"squeeze\" to \"DataFrameGroupBy\" has incompatible type\u001b[39;00m\n\u001b[0;32m   7711\u001b[0m \u001b[38;5;66;03m# \"Union[bool, NoDefault]\"; expected \"bool\"\u001b[39;00m\n\u001b[1;32m-> 7712\u001b[0m \u001b[38;5;28;01mreturn\u001b[39;00m \u001b[43mDataFrameGroupBy\u001b[49m\u001b[43m(\u001b[49m\n\u001b[0;32m   7713\u001b[0m \u001b[43m    \u001b[49m\u001b[43mobj\u001b[49m\u001b[38;5;241;43m=\u001b[39;49m\u001b[38;5;28;43mself\u001b[39;49m\u001b[43m,\u001b[49m\n\u001b[0;32m   7714\u001b[0m \u001b[43m    \u001b[49m\u001b[43mkeys\u001b[49m\u001b[38;5;241;43m=\u001b[39;49m\u001b[43mby\u001b[49m\u001b[43m,\u001b[49m\n\u001b[0;32m   7715\u001b[0m \u001b[43m    \u001b[49m\u001b[43maxis\u001b[49m\u001b[38;5;241;43m=\u001b[39;49m\u001b[43maxis\u001b[49m\u001b[43m,\u001b[49m\n\u001b[0;32m   7716\u001b[0m \u001b[43m    \u001b[49m\u001b[43mlevel\u001b[49m\u001b[38;5;241;43m=\u001b[39;49m\u001b[43mlevel\u001b[49m\u001b[43m,\u001b[49m\n\u001b[0;32m   7717\u001b[0m \u001b[43m    \u001b[49m\u001b[43mas_index\u001b[49m\u001b[38;5;241;43m=\u001b[39;49m\u001b[43mas_index\u001b[49m\u001b[43m,\u001b[49m\n\u001b[0;32m   7718\u001b[0m \u001b[43m    \u001b[49m\u001b[43msort\u001b[49m\u001b[38;5;241;43m=\u001b[39;49m\u001b[43msort\u001b[49m\u001b[43m,\u001b[49m\n\u001b[0;32m   7719\u001b[0m \u001b[43m    \u001b[49m\u001b[43mgroup_keys\u001b[49m\u001b[38;5;241;43m=\u001b[39;49m\u001b[43mgroup_keys\u001b[49m\u001b[43m,\u001b[49m\n\u001b[0;32m   7720\u001b[0m \u001b[43m    \u001b[49m\u001b[43msqueeze\u001b[49m\u001b[38;5;241;43m=\u001b[39;49m\u001b[43msqueeze\u001b[49m\u001b[43m,\u001b[49m\u001b[43m  \u001b[49m\u001b[38;5;66;43;03m# type: ignore[arg-type]\u001b[39;49;00m\n\u001b[0;32m   7721\u001b[0m \u001b[43m    \u001b[49m\u001b[43mobserved\u001b[49m\u001b[38;5;241;43m=\u001b[39;49m\u001b[43mobserved\u001b[49m\u001b[43m,\u001b[49m\n\u001b[0;32m   7722\u001b[0m \u001b[43m    \u001b[49m\u001b[43mdropna\u001b[49m\u001b[38;5;241;43m=\u001b[39;49m\u001b[43mdropna\u001b[49m\u001b[43m,\u001b[49m\n\u001b[0;32m   7723\u001b[0m \u001b[43m\u001b[49m\u001b[43m)\u001b[49m\n",
      "File \u001b[1;32m~\\anaconda3\\lib\\site-packages\\pandas\\core\\groupby\\groupby.py:882\u001b[0m, in \u001b[0;36mGroupBy.__init__\u001b[1;34m(self, obj, keys, axis, level, grouper, exclusions, selection, as_index, sort, group_keys, squeeze, observed, mutated, dropna)\u001b[0m\n\u001b[0;32m    879\u001b[0m \u001b[38;5;28;01mif\u001b[39;00m grouper \u001b[38;5;129;01mis\u001b[39;00m \u001b[38;5;28;01mNone\u001b[39;00m:\n\u001b[0;32m    880\u001b[0m     \u001b[38;5;28;01mfrom\u001b[39;00m \u001b[38;5;21;01mpandas\u001b[39;00m\u001b[38;5;21;01m.\u001b[39;00m\u001b[38;5;21;01mcore\u001b[39;00m\u001b[38;5;21;01m.\u001b[39;00m\u001b[38;5;21;01mgroupby\u001b[39;00m\u001b[38;5;21;01m.\u001b[39;00m\u001b[38;5;21;01mgrouper\u001b[39;00m \u001b[38;5;28;01mimport\u001b[39;00m get_grouper\n\u001b[1;32m--> 882\u001b[0m     grouper, exclusions, obj \u001b[38;5;241m=\u001b[39m \u001b[43mget_grouper\u001b[49m\u001b[43m(\u001b[49m\n\u001b[0;32m    883\u001b[0m \u001b[43m        \u001b[49m\u001b[43mobj\u001b[49m\u001b[43m,\u001b[49m\n\u001b[0;32m    884\u001b[0m \u001b[43m        \u001b[49m\u001b[43mkeys\u001b[49m\u001b[43m,\u001b[49m\n\u001b[0;32m    885\u001b[0m \u001b[43m        \u001b[49m\u001b[43maxis\u001b[49m\u001b[38;5;241;43m=\u001b[39;49m\u001b[43maxis\u001b[49m\u001b[43m,\u001b[49m\n\u001b[0;32m    886\u001b[0m \u001b[43m        \u001b[49m\u001b[43mlevel\u001b[49m\u001b[38;5;241;43m=\u001b[39;49m\u001b[43mlevel\u001b[49m\u001b[43m,\u001b[49m\n\u001b[0;32m    887\u001b[0m \u001b[43m        \u001b[49m\u001b[43msort\u001b[49m\u001b[38;5;241;43m=\u001b[39;49m\u001b[43msort\u001b[49m\u001b[43m,\u001b[49m\n\u001b[0;32m    888\u001b[0m \u001b[43m        \u001b[49m\u001b[43mobserved\u001b[49m\u001b[38;5;241;43m=\u001b[39;49m\u001b[43mobserved\u001b[49m\u001b[43m,\u001b[49m\n\u001b[0;32m    889\u001b[0m \u001b[43m        \u001b[49m\u001b[43mmutated\u001b[49m\u001b[38;5;241;43m=\u001b[39;49m\u001b[38;5;28;43mself\u001b[39;49m\u001b[38;5;241;43m.\u001b[39;49m\u001b[43mmutated\u001b[49m\u001b[43m,\u001b[49m\n\u001b[0;32m    890\u001b[0m \u001b[43m        \u001b[49m\u001b[43mdropna\u001b[49m\u001b[38;5;241;43m=\u001b[39;49m\u001b[38;5;28;43mself\u001b[39;49m\u001b[38;5;241;43m.\u001b[39;49m\u001b[43mdropna\u001b[49m\u001b[43m,\u001b[49m\n\u001b[0;32m    891\u001b[0m \u001b[43m    \u001b[49m\u001b[43m)\u001b[49m\n\u001b[0;32m    893\u001b[0m \u001b[38;5;28mself\u001b[39m\u001b[38;5;241m.\u001b[39mobj \u001b[38;5;241m=\u001b[39m obj\n\u001b[0;32m    894\u001b[0m \u001b[38;5;28mself\u001b[39m\u001b[38;5;241m.\u001b[39maxis \u001b[38;5;241m=\u001b[39m obj\u001b[38;5;241m.\u001b[39m_get_axis_number(axis)\n",
      "File \u001b[1;32m~\\anaconda3\\lib\\site-packages\\pandas\\core\\groupby\\grouper.py:877\u001b[0m, in \u001b[0;36mget_grouper\u001b[1;34m(obj, key, axis, level, sort, observed, mutated, validate, dropna)\u001b[0m\n\u001b[0;32m    873\u001b[0m     in_axis, name, gpr \u001b[38;5;241m=\u001b[39m \u001b[38;5;28;01mTrue\u001b[39;00m, gpr, obj[gpr]\n\u001b[0;32m    874\u001b[0m     \u001b[38;5;28;01mif\u001b[39;00m gpr\u001b[38;5;241m.\u001b[39mndim \u001b[38;5;241m!=\u001b[39m \u001b[38;5;241m1\u001b[39m:\n\u001b[0;32m    875\u001b[0m         \u001b[38;5;66;03m# non-unique columns; raise here to get the name in the\u001b[39;00m\n\u001b[0;32m    876\u001b[0m         \u001b[38;5;66;03m# exception message\u001b[39;00m\n\u001b[1;32m--> 877\u001b[0m         \u001b[38;5;28;01mraise\u001b[39;00m \u001b[38;5;167;01mValueError\u001b[39;00m(\u001b[38;5;124mf\u001b[39m\u001b[38;5;124m\"\u001b[39m\u001b[38;5;124mGrouper for \u001b[39m\u001b[38;5;124m'\u001b[39m\u001b[38;5;132;01m{\u001b[39;00mname\u001b[38;5;132;01m}\u001b[39;00m\u001b[38;5;124m'\u001b[39m\u001b[38;5;124m not 1-dimensional\u001b[39m\u001b[38;5;124m\"\u001b[39m)\n\u001b[0;32m    878\u001b[0m     exclusions\u001b[38;5;241m.\u001b[39madd(name)\n\u001b[0;32m    879\u001b[0m \u001b[38;5;28;01melif\u001b[39;00m obj\u001b[38;5;241m.\u001b[39m_is_level_reference(gpr, axis\u001b[38;5;241m=\u001b[39maxis):\n",
      "\u001b[1;31mValueError\u001b[0m: Grouper for 'avg_salary' not 1-dimensional"
     ]
    }
   ],
   "source": [
    "for i in df_pivots.columns:\n",
    "    print(i)\n",
    "    print(pd.pivot_table(df_pivots, index=i, values='avg_salary').sort_values('avg_salary', ascending=False))"
   ]
  },
  {
   "cell_type": "code",
   "execution_count": 128,
   "id": "d208ba53",
   "metadata": {},
   "outputs": [
    {
     "data": {
      "text/html": [
       "<div>\n",
       "<style scoped>\n",
       "    .dataframe tbody tr th:only-of-type {\n",
       "        vertical-align: middle;\n",
       "    }\n",
       "\n",
       "    .dataframe tbody tr th {\n",
       "        vertical-align: top;\n",
       "    }\n",
       "\n",
       "    .dataframe thead th {\n",
       "        text-align: right;\n",
       "    }\n",
       "</style>\n",
       "<table border=\"1\" class=\"dataframe\">\n",
       "  <thead>\n",
       "    <tr style=\"text-align: right;\">\n",
       "      <th>python_yn</th>\n",
       "      <th>0</th>\n",
       "      <th>1</th>\n",
       "    </tr>\n",
       "    <tr>\n",
       "      <th>revenue</th>\n",
       "      <th></th>\n",
       "      <th></th>\n",
       "    </tr>\n",
       "  </thead>\n",
       "  <tbody>\n",
       "    <tr>\n",
       "      <th>$1 to $5 million (USD)</th>\n",
       "      <td>5.500000</td>\n",
       "      <td>NaN</td>\n",
       "    </tr>\n",
       "    <tr>\n",
       "      <th>$10+ billion (USD)</th>\n",
       "      <td>10.058140</td>\n",
       "      <td>6.375000</td>\n",
       "    </tr>\n",
       "    <tr>\n",
       "      <th>$100 to $500 million (USD)</th>\n",
       "      <td>4.666667</td>\n",
       "      <td>NaN</td>\n",
       "    </tr>\n",
       "    <tr>\n",
       "      <th>$2 to $5 billion (USD)</th>\n",
       "      <td>20.100000</td>\n",
       "      <td>12.500000</td>\n",
       "    </tr>\n",
       "    <tr>\n",
       "      <th>$25 to $50 million (USD)</th>\n",
       "      <td>7.125000</td>\n",
       "      <td>NaN</td>\n",
       "    </tr>\n",
       "    <tr>\n",
       "      <th>$5 to $10 billion (USD)</th>\n",
       "      <td>9.000000</td>\n",
       "      <td>NaN</td>\n",
       "    </tr>\n",
       "    <tr>\n",
       "      <th>$5 to $25 million (USD)</th>\n",
       "      <td>NaN</td>\n",
       "      <td>5.000000</td>\n",
       "    </tr>\n",
       "    <tr>\n",
       "      <th>$500 million to $1 billion (USD)</th>\n",
       "      <td>6.500000</td>\n",
       "      <td>6.500000</td>\n",
       "    </tr>\n",
       "    <tr>\n",
       "      <th>-1</th>\n",
       "      <td>6.700000</td>\n",
       "      <td>5.642857</td>\n",
       "    </tr>\n",
       "    <tr>\n",
       "      <th>Unknown / Non-Applicable</th>\n",
       "      <td>9.605263</td>\n",
       "      <td>6.000000</td>\n",
       "    </tr>\n",
       "  </tbody>\n",
       "</table>\n",
       "</div>"
      ],
      "text/plain": [
       "python_yn                                 0          1\n",
       "revenue                                               \n",
       "$1 to $5 million (USD)             5.500000        NaN\n",
       "$10+ billion (USD)                10.058140   6.375000\n",
       "$100 to $500 million (USD)         4.666667        NaN\n",
       "$2 to $5 billion (USD)            20.100000  12.500000\n",
       "$25 to $50 million (USD)           7.125000        NaN\n",
       "$5 to $10 billion (USD)            9.000000        NaN\n",
       "$5 to $25 million (USD)                 NaN   5.000000\n",
       "$500 million to $1 billion (USD)   6.500000   6.500000\n",
       "-1                                 6.700000   5.642857\n",
       "Unknown / Non-Applicable           9.605263   6.000000"
      ]
     },
     "execution_count": 128,
     "metadata": {},
     "output_type": "execute_result"
    }
   ],
   "source": [
    "pd.pivot_table(df_pivots, index='revenue', columns='python_yn', values='avg_salary')"
   ]
  },
  {
   "cell_type": "code",
   "execution_count": 129,
   "id": "d1925b8b",
   "metadata": {},
   "outputs": [
    {
     "data": {
      "text/html": [
       "<div>\n",
       "<style scoped>\n",
       "    .dataframe tbody tr th:only-of-type {\n",
       "        vertical-align: middle;\n",
       "    }\n",
       "\n",
       "    .dataframe tbody tr th {\n",
       "        vertical-align: top;\n",
       "    }\n",
       "\n",
       "    .dataframe thead th {\n",
       "        text-align: right;\n",
       "    }\n",
       "</style>\n",
       "<table border=\"1\" class=\"dataframe\">\n",
       "  <thead>\n",
       "    <tr style=\"text-align: right;\">\n",
       "      <th>excel_yn</th>\n",
       "      <th>0</th>\n",
       "      <th>1</th>\n",
       "    </tr>\n",
       "    <tr>\n",
       "      <th>revenue</th>\n",
       "      <th></th>\n",
       "      <th></th>\n",
       "    </tr>\n",
       "  </thead>\n",
       "  <tbody>\n",
       "    <tr>\n",
       "      <th>$1 to $5 million (USD)</th>\n",
       "      <td>5.500000</td>\n",
       "      <td>NaN</td>\n",
       "    </tr>\n",
       "    <tr>\n",
       "      <th>$10+ billion (USD)</th>\n",
       "      <td>9.872093</td>\n",
       "      <td>8.375000</td>\n",
       "    </tr>\n",
       "    <tr>\n",
       "      <th>$100 to $500 million (USD)</th>\n",
       "      <td>4.666667</td>\n",
       "      <td>NaN</td>\n",
       "    </tr>\n",
       "    <tr>\n",
       "      <th>$2 to $5 billion (USD)</th>\n",
       "      <td>23.125000</td>\n",
       "      <td>11.000000</td>\n",
       "    </tr>\n",
       "    <tr>\n",
       "      <th>$25 to $50 million (USD)</th>\n",
       "      <td>7.125000</td>\n",
       "      <td>NaN</td>\n",
       "    </tr>\n",
       "    <tr>\n",
       "      <th>$5 to $10 billion (USD)</th>\n",
       "      <td>NaN</td>\n",
       "      <td>9.000000</td>\n",
       "    </tr>\n",
       "    <tr>\n",
       "      <th>$5 to $25 million (USD)</th>\n",
       "      <td>5.000000</td>\n",
       "      <td>NaN</td>\n",
       "    </tr>\n",
       "    <tr>\n",
       "      <th>$500 million to $1 billion (USD)</th>\n",
       "      <td>6.500000</td>\n",
       "      <td>6.500000</td>\n",
       "    </tr>\n",
       "    <tr>\n",
       "      <th>-1</th>\n",
       "      <td>6.250000</td>\n",
       "      <td>6.500000</td>\n",
       "    </tr>\n",
       "    <tr>\n",
       "      <th>Unknown / Non-Applicable</th>\n",
       "      <td>8.200000</td>\n",
       "      <td>14.166667</td>\n",
       "    </tr>\n",
       "  </tbody>\n",
       "</table>\n",
       "</div>"
      ],
      "text/plain": [
       "excel_yn                                  0          1\n",
       "revenue                                               \n",
       "$1 to $5 million (USD)             5.500000        NaN\n",
       "$10+ billion (USD)                 9.872093   8.375000\n",
       "$100 to $500 million (USD)         4.666667        NaN\n",
       "$2 to $5 billion (USD)            23.125000  11.000000\n",
       "$25 to $50 million (USD)           7.125000        NaN\n",
       "$5 to $10 billion (USD)                 NaN   9.000000\n",
       "$5 to $25 million (USD)            5.000000        NaN\n",
       "$500 million to $1 billion (USD)   6.500000   6.500000\n",
       "-1                                 6.250000   6.500000\n",
       "Unknown / Non-Applicable           8.200000  14.166667"
      ]
     },
     "execution_count": 129,
     "metadata": {},
     "output_type": "execute_result"
    }
   ],
   "source": [
    "pd.pivot_table(df_pivots, index='revenue', columns='excel_yn', values='avg_salary')"
   ]
  },
  {
   "cell_type": "code",
   "execution_count": null,
   "id": "27f354f4",
   "metadata": {},
   "outputs": [],
   "source": []
  }
 ],
 "metadata": {
  "kernelspec": {
   "display_name": "Python 3 (ipykernel)",
   "language": "python",
   "name": "python3"
  },
  "language_info": {
   "codemirror_mode": {
    "name": "ipython",
    "version": 3
   },
   "file_extension": ".py",
   "mimetype": "text/x-python",
   "name": "python",
   "nbconvert_exporter": "python",
   "pygments_lexer": "ipython3",
   "version": "3.9.12"
  }
 },
 "nbformat": 4,
 "nbformat_minor": 5
}
